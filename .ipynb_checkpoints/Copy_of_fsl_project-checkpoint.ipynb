{
 "cells": [
  {
   "cell_type": "code",
   "execution_count": 1,
   "metadata": {
    "colab": {
     "base_uri": "https://localhost:8080/",
     "height": 81
    },
    "colab_type": "code",
    "id": "V2dlVeU-gS5j",
    "outputId": "ab9d151b-f75f-4241-e2eb-d0342f5f286b"
   },
   "outputs": [
    {
     "name": "stderr",
     "output_type": "stream",
     "text": [
      "Using TensorFlow backend.\n"
     ]
    }
   ],
   "source": [
    "import numpy as np\n",
    "import keras\n",
    "from tensorflow.keras import backend as K\n",
    "import tensorflow as tf"
   ]
  },
  {
   "cell_type": "code",
   "execution_count": 2,
   "metadata": {},
   "outputs": [],
   "source": [
    "from scipy.io import loadmat\n",
    "x = loadmat('svhn_data/train_32x32.mat')\n",
    "y = loadmat('svhn_data/test_32x32.mat')\n",
    "import gzip\n",
    "import numpy as np\n",
    "import pandas as pd\n",
    "from time import time\n",
    "\n",
    "from sklearn.model_selection import train_test_split\n",
    "import tensorflow as tf\n",
    "import keras\n",
    "import keras.layers as layers\n",
    "from keras.models import Sequential\n",
    "from keras.preprocessing.image import ImageDataGenerator\n",
    "from keras.utils.np_utils import to_categorical\n",
    "from keras.callbacks import TensorBoard\n",
    "from matplotlib import pyplot as plt"
   ]
  },
  {
   "cell_type": "code",
   "execution_count": 4,
   "metadata": {},
   "outputs": [],
   "source": [
    "NUM_CLASSES = 10\n",
    "use_bfloat16=False\n",
    "img_rows, img_cols = 28, 28\n",
    "cast_dtype = tf.bfloat16 if use_bfloat16 else tf.float32\n",
    "x = loadmat('svhn_data/train_32x32.mat')\n",
    "y = loadmat('svhn_data/test_32x32.mat')\n",
    "# y_train = x['y']\n",
    "# x_train = np.swapaxes(np.swapaxes(np.swapaxes(x['X'],2,3), 1,2), 0,1)\n",
    "# y_test = y['y']\n",
    "# x_test = np.swapaxes(np.swapaxes(np.swapaxes(y['X'],2,3), 1,2), 0,1)"
   ]
  },
  {
   "cell_type": "code",
   "execution_count": 6,
   "metadata": {},
   "outputs": [
    {
     "data": {
      "text/plain": [
       "(32, 32, 3, 73257)"
      ]
     },
     "execution_count": 6,
     "metadata": {},
     "output_type": "execute_result"
    }
   ],
   "source": [
    "x['X'].shape"
   ]
  },
  {
   "cell_type": "code",
   "execution_count": null,
   "metadata": {},
   "outputs": [],
   "source": [
    "if tf.keras.backend.image_data_format() == 'channels_first':\n",
    "    x_train = x_train.reshape(img_rows, img_cols,3,x_train.shape[0])\n",
    "    x_test = x_test.reshape(img_rows, img_cols,3,x_train.shape[0])\n",
    "    input_shape = (1, img_rows, img_cols)\n",
    "else:\n",
    "    x_train = x_train.reshape(x_train.shape[0], img_rows, img_cols, 1)\n",
    "    x_test = x_test.reshape(x_test.shape[0], img_rows, img_cols, 1)\n",
    "    input_shape = (img_rows, img_cols, 1)"
   ]
  },
  {
   "cell_type": "code",
   "execution_count": 10,
   "metadata": {},
   "outputs": [
    {
     "data": {
      "text/plain": [
       "(73257, 32, 32, 3)"
      ]
     },
     "execution_count": 10,
     "metadata": {},
     "output_type": "execute_result"
    }
   ],
   "source": [
    "x_train.shape"
   ]
  },
  {
   "cell_type": "code",
   "execution_count": 11,
   "metadata": {},
   "outputs": [],
   "source": [
    "x_train = x_train.astype('float32')\n",
    "x_test = x_test.astype('float32')\n",
    "x_train /= 255\n",
    "x_test /= 255"
   ]
  },
  {
   "cell_type": "code",
   "execution_count": 6,
   "metadata": {},
   "outputs": [],
   "source": [
    "y_train.resize((y_train.shape[0],))"
   ]
  },
  {
   "cell_type": "code",
   "execution_count": 12,
   "metadata": {},
   "outputs": [
    {
     "data": {
      "text/plain": [
       "array([ 1,  2,  3,  4,  5,  6,  7,  8,  9, 10], dtype=uint8)"
      ]
     },
     "execution_count": 12,
     "metadata": {},
     "output_type": "execute_result"
    }
   ],
   "source": [
    "np.unique(y_train)"
   ]
  },
  {
   "cell_type": "code",
   "execution_count": 13,
   "metadata": {},
   "outputs": [
    {
     "data": {
      "text/plain": [
       "(73257, 1)"
      ]
     },
     "execution_count": 13,
     "metadata": {},
     "output_type": "execute_result"
    }
   ],
   "source": [
    "y_train.shape"
   ]
  },
  {
   "cell_type": "code",
   "execution_count": null,
   "metadata": {},
   "outputs": [],
   "source": [
    "# y_train.resize((y_train.shape[0],))\n",
    "# y_test.resize((y_test.shape[0],))\n",
    "y_train = tf.keras.utils.to_categorical(y_train)[:,1:]\n",
    "y_test = tf.keras.utils.to_categorical(y_test)[:,1:]\n",
    "\n",
    "# train dataset\n",
    "# train_ds = tf.data.Dataset.from_tensor_slices((x_train, y_train))\n",
    "# train_ds = train_ds.repeat()\n",
    "# #Newly added\n",
    "# #train_ds = train_ds.shuffle(seed=10)\n",
    "# train_ds = train_ds.map(lambda x, y: (tf.cast(x, cast_dtype), y))\n",
    "# train_ds = train_ds.batch(64, drop_remainder=True)\n",
    "\n",
    "# # eval dataset\n",
    "# eval_ds = tf.data.Dataset.from_tensor_slices((x_test, y_test))\n",
    "# eval_ds = eval_ds.repeat()\n",
    "# #Newly added\n",
    "# # eval_ds = eval_ds.shuffle(seed=10)\n",
    "# eval_ds = eval_ds.map(lambda x, y: (tf.cast(x, cast_dtype), y))\n",
    "# eval_ds = eval_ds.batch(64, drop_remainder=True)"
   ]
  },
  {
   "cell_type": "code",
   "execution_count": 5,
   "metadata": {
    "colab": {},
    "colab_type": "code",
    "id": "KJYaxLlAgTy8"
   },
   "outputs": [],
   "source": [
    "NUM_CLASSES = 10\n",
    "\n",
    "def get_input_datasets(use_bfloat16=False):\n",
    "    \"\"\"Downloads the MNIST dataset and creates train and eval dataset objects.\n",
    "\n",
    "    Args:\n",
    "      use_bfloat16: Boolean to determine if input should be cast to bfloat16\n",
    "\n",
    "    Returns:\n",
    "      Train dataset, eval dataset and input shape.\n",
    "\n",
    "    \"\"\"\n",
    "    # input image dimensions\n",
    "#     img_rows, img_cols = 28, 28\n",
    "#     cast_dtype = tf.bfloat16 if use_bfloat16 else tf.float32\n",
    "#     x = loadmat('svhn_data/train_32x32.mat')\n",
    "#     y = loadmat('svhn_data/test_32x32.mat')\n",
    "#     y_train = x['y']\n",
    "#     x_train = np.swapaxes(np.swapaxes(np.swapaxes(x['X'],2,3), 1,2), 0,1)\n",
    "#     y_test = y['y']\n",
    "#     x_test = np.swapaxes(np.swapaxes(np.swapaxes(y['X'],2,3), 1,2), 0,1)\n",
    "    \n",
    "    \n",
    "    # the data, split between train and test sets\n",
    "    #(x_train, y_train), (x_test, y_test) = tf.keras.datasets.mnist.load_data()\n",
    "\n",
    "#     if tf.keras.backend.image_data_format() == 'channels_first':\n",
    "#         x_train = x_train.reshape(x_train.shape[0], 1, img_rows, img_cols)\n",
    "#         x_test = x_test.reshape(x_test.shape[0], 1, img_rows, img_cols)\n",
    "#         input_shape = (1, img_rows, img_cols)\n",
    "#     else:\n",
    "#         x_train = x_train.reshape(x_train.shape[0], img_rows, img_cols, 1)\n",
    "#         x_test = x_test.reshape(x_test.shape[0], img_rows, img_cols, 1)\n",
    "#         input_shape = (img_rows, img_cols, 1)\n",
    "\n",
    "    x_train = x_train.astype('float32')\n",
    "    x_test = x_test.astype('float32')\n",
    "    x_train /= 255\n",
    "    x_test /= 255\n",
    "\n",
    "    # convert class vectors to binary class matrices\n",
    "    y_train = tf.keras.utils.to_categorical(y_train, NUM_CLASSES)\n",
    "    y_test = tf.keras.utils.to_categorical(y_test, NUM_CLASSES)\n",
    "\n",
    "    # train dataset\n",
    "    train_ds = tf.data.Dataset.from_tensor_slices((x_train, y_train))\n",
    "    train_ds = train_ds.repeat()\n",
    "    #Newly added\n",
    "    #train_ds = train_ds.shuffle(seed=10)\n",
    "    train_ds = train_ds.map(lambda x, y: (tf.cast(x, cast_dtype), y))\n",
    "    train_ds = train_ds.batch(64, drop_remainder=True)\n",
    "\n",
    "    # eval dataset\n",
    "    eval_ds = tf.data.Dataset.from_tensor_slices((x_test, y_test))\n",
    "    eval_ds = eval_ds.repeat()\n",
    "    #Newly added\n",
    "    # eval_ds = eval_ds.shuffle(seed=10)\n",
    "    eval_ds = eval_ds.map(lambda x, y: (tf.cast(x, cast_dtype), y))\n",
    "    eval_ds = eval_ds.batch(64, drop_remainder=True)\n",
    "\n",
    "    return train_ds, eval_ds, input_shape"
   ]
  },
  {
   "cell_type": "code",
   "execution_count": 6,
   "metadata": {
    "colab": {},
    "colab_type": "code",
    "id": "oCx8MJTogYlc"
   },
   "outputs": [
    {
     "ename": "ValueError",
     "evalue": "cannot reshape array of size 225045504 into shape (73257,28,28,1)",
     "output_type": "error",
     "traceback": [
      "\u001b[1;31m---------------------------------------------------------------------------\u001b[0m",
      "\u001b[1;31mValueError\u001b[0m                                Traceback (most recent call last)",
      "\u001b[1;32m<ipython-input-6-268ed3de10f1>\u001b[0m in \u001b[0;36m<module>\u001b[1;34m()\u001b[0m\n\u001b[1;32m----> 1\u001b[1;33m \u001b[0mtrain_ds\u001b[0m\u001b[1;33m,\u001b[0m \u001b[0meval_ds\u001b[0m\u001b[1;33m,\u001b[0m \u001b[0minput_shape\u001b[0m \u001b[1;33m=\u001b[0m \u001b[0mget_input_datasets\u001b[0m\u001b[1;33m(\u001b[0m\u001b[1;33m)\u001b[0m\u001b[1;33m\u001b[0m\u001b[0m\n\u001b[0m",
      "\u001b[1;32m<ipython-input-5-7dd79054e7aa>\u001b[0m in \u001b[0;36mget_input_datasets\u001b[1;34m(use_bfloat16)\u001b[0m\n\u001b[0;32m     30\u001b[0m         \u001b[0minput_shape\u001b[0m \u001b[1;33m=\u001b[0m \u001b[1;33m(\u001b[0m\u001b[1;36m1\u001b[0m\u001b[1;33m,\u001b[0m \u001b[0mimg_rows\u001b[0m\u001b[1;33m,\u001b[0m \u001b[0mimg_cols\u001b[0m\u001b[1;33m)\u001b[0m\u001b[1;33m\u001b[0m\u001b[0m\n\u001b[0;32m     31\u001b[0m     \u001b[1;32melse\u001b[0m\u001b[1;33m:\u001b[0m\u001b[1;33m\u001b[0m\u001b[0m\n\u001b[1;32m---> 32\u001b[1;33m         \u001b[0mx_train\u001b[0m \u001b[1;33m=\u001b[0m \u001b[0mx_train\u001b[0m\u001b[1;33m.\u001b[0m\u001b[0mreshape\u001b[0m\u001b[1;33m(\u001b[0m\u001b[0mx_train\u001b[0m\u001b[1;33m.\u001b[0m\u001b[0mshape\u001b[0m\u001b[1;33m[\u001b[0m\u001b[1;36m0\u001b[0m\u001b[1;33m]\u001b[0m\u001b[1;33m,\u001b[0m \u001b[0mimg_rows\u001b[0m\u001b[1;33m,\u001b[0m \u001b[0mimg_cols\u001b[0m\u001b[1;33m,\u001b[0m \u001b[1;36m1\u001b[0m\u001b[1;33m)\u001b[0m\u001b[1;33m\u001b[0m\u001b[0m\n\u001b[0m\u001b[0;32m     33\u001b[0m         \u001b[0mx_test\u001b[0m \u001b[1;33m=\u001b[0m \u001b[0mx_test\u001b[0m\u001b[1;33m.\u001b[0m\u001b[0mreshape\u001b[0m\u001b[1;33m(\u001b[0m\u001b[0mx_test\u001b[0m\u001b[1;33m.\u001b[0m\u001b[0mshape\u001b[0m\u001b[1;33m[\u001b[0m\u001b[1;36m0\u001b[0m\u001b[1;33m]\u001b[0m\u001b[1;33m,\u001b[0m \u001b[0mimg_rows\u001b[0m\u001b[1;33m,\u001b[0m \u001b[0mimg_cols\u001b[0m\u001b[1;33m,\u001b[0m \u001b[1;36m1\u001b[0m\u001b[1;33m)\u001b[0m\u001b[1;33m\u001b[0m\u001b[0m\n\u001b[0;32m     34\u001b[0m         \u001b[0minput_shape\u001b[0m \u001b[1;33m=\u001b[0m \u001b[1;33m(\u001b[0m\u001b[0mimg_rows\u001b[0m\u001b[1;33m,\u001b[0m \u001b[0mimg_cols\u001b[0m\u001b[1;33m,\u001b[0m \u001b[1;36m1\u001b[0m\u001b[1;33m)\u001b[0m\u001b[1;33m\u001b[0m\u001b[0m\n",
      "\u001b[1;31mValueError\u001b[0m: cannot reshape array of size 225045504 into shape (73257,28,28,1)"
     ]
    }
   ],
   "source": [
    "train_ds, eval_ds, input_shape = get_input_datasets()"
   ]
  },
  {
   "cell_type": "code",
   "execution_count": null,
   "metadata": {
    "colab": {},
    "colab_type": "code",
    "id": "0Uz2gZ2wOvHF"
   },
   "outputs": [],
   "source": [
    "from tensorflow.keras.models import Sequential\n",
    "from tensorflow.keras.layers import Dense, Conv2D, Dropout, BatchNormalization, MaxPooling2D, Flatten, Activation\n",
    "from tensorflow.python.keras.optimizer_v2 import rmsprop\n",
    "\n",
    "\n",
    "def get_model(input_shape, dropout1_rate=0.25, dropout2_rate=0.5):\n",
    "    \"\"\"Builds a Sequential CNN model to recognize MNIST.\n",
    "\n",
    "    Args:\n",
    "      input_shape: Shape of the input depending on the `image_data_format`.\n",
    "      dropout2_rate: float between 0 and 1. Fraction of the input units to drop for `dense1` layer.\n",
    "\n",
    "    Returns:\n",
    "      a Keras model\n",
    "\n",
    "    \"\"\"\n",
    "    # Reset the tensorflow backend session.\n",
    "    # tf.keras.backend.clear_session()\n",
    "    # Define a CNN model to recognize MNIST.\n",
    "    model = Sequential()\n",
    "    model.add(Conv2D(32, kernel_size=(5, 5),\n",
    "                     activation='relu',\n",
    "                     input_shape=input_shape,\n",
    "                     name=\"conv2d_1\", strides=1, padding='same', kernel_initializer=\"he_uniform\", bias_initializer=\"zeros\"))\n",
    "    model.add(Conv2D(filters=64, kernel_size=(3, 3), \n",
    "                     activation='relu', name=\"conv2d_2\", \n",
    "                     strides=1, padding='same', kernel_initializer=\"he_uniform\", bias_initializer=\"zeros\"))\n",
    "    model.add(Conv2D(filters=128, kernel_size=(3, 3), \n",
    "                     activation='relu', name=\"conv2d_3\", \n",
    "                     strides=1, padding='same', kernel_initializer=\"he_uniform\", bias_initializer=\"zeros\"))\n",
    "    \n",
    "    # model.add(Conv2D(64, (3, 3), activation='relu', name=\"conv2d_2\", ))\n",
    "    # model.add(MaxPooling2D(pool_size=(2, 2), name=\"maxpool2d_1\"))\n",
    "    # model.add(Dropout(0.25, name=\"dropout_1\"))\n",
    "    # model.add(Dense(128, activation='relu', name=\"dense_1\"))\n",
    "\n",
    "    model.add(Flatten(name=\"flatten\"))\n",
    "    \n",
    "    model.add(Dense(units=64, activation='relu', name=\"dense_1\", kernel_initializer=\"glorot_uniform\", bias_initializer=\"zeros\"))\n",
    "    model.add(Dropout(dropout1_rate, name=\"dropout_1\"))\n",
    "    \n",
    "    model.add(Dense(units=64, activation='relu', name=\"dense_2\", kernel_initializer=\"glorot_uniform\", bias_initializer=\"zeros\"))\n",
    "    model.add(Dropout(dropout2_rate, name=\"dropout_2\"))\n",
    "\n",
    "    model.add(Dense(NUM_CLASSES, activation='softmax', name=\"dense_3\"))\n",
    "\n",
    "    return model"
   ]
  },
  {
   "cell_type": "code",
   "execution_count": null,
   "metadata": {
    "colab": {},
    "colab_type": "code",
    "id": "yuN3o0OigaMj"
   },
   "outputs": [],
   "source": [
    "# def fit_with(input_shape, verbose, dropout2_rate, lr):\n",
    "# def fit_with(input_shape, verbose, dropout1_rate, dropout2_rate, lr, batch_size, decay_rate):\n",
    "def fit_with(input_shape, verbose, lr):\n",
    "\n",
    "    dropout1_rate=0.5\n",
    "    dropout2_rate=0.25\n",
    "    # Create the model using a specified hyperparameters.\n",
    "    model = get_model(input_shape, dropout1_rate, dropout2_rate)\n",
    "    decay_rate = 0.2\n",
    "    batch_size = 128\n",
    "    # Train the model for a specified number of epochs.\n",
    "    # optimizer = rmsprop.RMSProp(learning_rate=lr)\n",
    "    optimizer = tf.keras.optimizers.Adam(lr=lr,decay=decay_rate)\n",
    "    model.compile(loss=tf.keras.losses.categorical_crossentropy,\n",
    "                  optimizer=optimizer,\n",
    "                  metrics=['accuracy'])\n",
    "\n",
    "    # Train the model with the train dataset.\n",
    "    # model.fit(x=train_ds, epochs=1, steps_per_epoch=468, verbose=verbose)\n",
    "    model.fit(x=train_ds, epochs=1, steps_per_epoch=batch_size, verbose=verbose)\n",
    "\n",
    "    # model.fit(x=train_ds, epochs=1, steps_per_epoch=468,\n",
    "    #           batch_size=64, verbose=verbose)\n",
    "\n",
    "    # Evaluate the model with the eval dataset.\n",
    "    score = model.evaluate(eval_ds, steps=10, verbose=0)\n",
    "    print('Test loss:', score[0])\n",
    "    print('Test accuracy:', score[1])\n",
    "\n",
    "    # Return the accuracy.\n",
    "\n",
    "    return score[1]"
   ]
  },
  {
   "cell_type": "code",
   "execution_count": null,
   "metadata": {
    "colab": {},
    "colab_type": "code",
    "id": "W6XS-9mVgcWh"
   },
   "outputs": [],
   "source": [
    "from functools import partial\n",
    "\n",
    "#changed\n",
    "verbose = 0\n",
    "fit_with_partial = partial(fit_with, input_shape, verbose)"
   ]
  },
  {
   "cell_type": "code",
   "execution_count": null,
   "metadata": {
    "colab": {
     "base_uri": "https://localhost:8080/",
     "height": 159
    },
    "colab_type": "code",
    "id": "we8SH7BxgtTS",
    "outputId": "3337d8bd-314e-46e5-e9a4-295f1d3a93b3"
   },
   "outputs": [
    {
     "name": "stdout",
     "output_type": "stream",
     "text": [
      "WARNING:tensorflow:From /usr/local/lib/python3.6/dist-packages/tensorflow_core/python/ops/resource_variable_ops.py:1630: calling BaseResourceVariable.__init__ (from tensorflow.python.ops.resource_variable_ops) with constraint is deprecated and will be removed in a future version.\n",
      "Instructions for updating:\n",
      "If using Keras pass *_constraint arguments to layers.\n",
      "WARNING:tensorflow:Expected a shuffled dataset but input dataset `x` is not shuffled. Please invoke `shuffle()` on input dataset.\n",
      "Test loss: 1.0938673794269562\n",
      "Test accuracy: 0.7625\n"
     ]
    },
    {
     "data": {
      "text/plain": [
       "0.7625"
      ]
     },
     "execution_count": 12,
     "metadata": {
      "tags": []
     },
     "output_type": "execute_result"
    }
   ],
   "source": [
    "# fit_with_partial(dropout1_rate=0.25, dropout2_rate=0.5, lr=0.001, batch_size=512, decay_rate=0.5)\n",
    "fit_with_partial(lr=0.001)"
   ]
  },
  {
   "cell_type": "code",
   "execution_count": null,
   "metadata": {
    "colab": {},
    "colab_type": "code",
    "id": "xBW3fChggeSI"
   },
   "outputs": [],
   "source": [
    "from bayes_opt import BayesianOptimization\n",
    "\n",
    "# Bounded region of parameter space\n",
    "# pbounds = {'dropout1_rate': (0.1, 0.5), 'dropout2_rate': (0.1, 0.5), 'lr': (1e-4, 1e-2), 'batch_size': (100,200), 'decay_rate': (0.1, 0.5)}\n",
    "pbounds = {'lr': (1e-4, 1e-2)}\n",
    "\n",
    "optimizer = BayesianOptimization(\n",
    "    f=fit_with_partial,\n",
    "    pbounds=pbounds,\n",
    "    verbose=2,  # verbose = 1 prints only when a maximum is observed, verbose = 0 is silent\n",
    "    random_state=1,\n",
    ")\n",
    "\n",
    "# optimizer.maximize(init_points=10, n_iter=5,)\n",
    "\n",
    "\n",
    "# for i, res in enumerate(optimizer.res):\n",
    "#     print(\"Iteration {}: \\n\\t{}\".format(i, res))\n",
    "\n",
    "# print(optimizer.max)"
   ]
  },
  {
   "cell_type": "code",
   "execution_count": null,
   "metadata": {
    "colab": {
     "base_uri": "https://localhost:8080/",
     "height": 34
    },
    "colab_type": "code",
    "id": "xFkfrp-Ygjey",
    "outputId": "ee634e33-9870-4ffb-afc6-4b3c70e57d55"
   },
   "outputs": [
    {
     "name": "stdout",
     "output_type": "stream",
     "text": [
      "{}\n"
     ]
    }
   ],
   "source": [
    "print(optimizer.max)"
   ]
  },
  {
   "cell_type": "markdown",
   "metadata": {
    "colab_type": "text",
    "id": "UrvLdGVBE5Ik"
   },
   "source": [
    "## Plotting and visualizing the algorithm at each step\n",
    "\n",
    "\n",
    "Reference: \n",
    "https://github.com/fmfn/BayesianOptimization/blob/master/examples/visualization.ipynb"
   ]
  },
  {
   "cell_type": "code",
   "execution_count": null,
   "metadata": {
    "colab": {},
    "colab_type": "code",
    "id": "0DjOJ65GYhR0"
   },
   "outputs": [],
   "source": [
    "from bayes_opt import BayesianOptimization\n",
    "from bayes_opt import UtilityFunction\n",
    "import numpy as np\n",
    "\n",
    "import matplotlib.pyplot as plt\n",
    "from matplotlib import gridspec\n",
    "%matplotlib inline"
   ]
  },
  {
   "cell_type": "code",
   "execution_count": null,
   "metadata": {
    "colab": {},
    "colab_type": "code",
    "id": "BHhtEtvEYaXS"
   },
   "outputs": [],
   "source": [
    "def target(x):\n",
    "    return np.exp(-(x - 2)**2) + np.exp(-(x - 6)**2/10) + 1/ (x**2 + 1)"
   ]
  },
  {
   "cell_type": "code",
   "execution_count": null,
   "metadata": {
    "colab": {
     "base_uri": "https://localhost:8080/",
     "height": 265
    },
    "colab_type": "code",
    "id": "8XF3YUelYckj",
    "outputId": "1d1bed23-d6ec-46f5-d338-d28a0e80aba6"
   },
   "outputs": [
    {
     "data": {
      "image/png": "[encoded data removed]",
      "text/plain": [
       "<Figure size 432x288 with 1 Axes>"
      ]
     },
     "metadata": {
      "tags": []
     },
     "output_type": "display_data"
    }
   ],
   "source": [
    "x = np.linspace(0, 1, 10000).reshape(-1, 1)\n",
    "y = target(x)\n",
    "\n",
    "plt.plot(x, y);"
   ]
  },
  {
   "cell_type": "code",
   "execution_count": null,
   "metadata": {
    "colab": {},
    "colab_type": "code",
    "id": "CDWdi10QYovU"
   },
   "outputs": [],
   "source": [
    "# optimizer = BayesianOptimization(target, {'x': (-2, 10)}, random_state=27)"
   ]
  },
  {
   "cell_type": "code",
   "execution_count": null,
   "metadata": {
    "colab": {
     "base_uri": "https://localhost:8080/",
     "height": 34
    },
    "colab_type": "code",
    "id": "_QWc0nmwgCYq",
    "outputId": "cdf273b2-7f8b-4b7c-c757-7cad85d61aca"
   },
   "outputs": [
    {
     "data": {
      "text/plain": [
       "[]"
      ]
     },
     "execution_count": 19,
     "metadata": {
      "tags": []
     },
     "output_type": "execute_result"
    }
   ],
   "source": [
    "optimizer.res"
   ]
  },
  {
   "cell_type": "code",
   "execution_count": null,
   "metadata": {
    "colab": {
     "base_uri": "https://localhost:8080/",
     "height": 764
    },
    "colab_type": "code",
    "id": "sR-vQ29NYrXP",
    "outputId": "4d02dc7f-34b8-4380-9dd6-cfa9ed671caa"
   },
   "outputs": [
    {
     "name": "stdout",
     "output_type": "stream",
     "text": [
      "|   iter    |  target   |    lr     |\n",
      "-------------------------------------\n",
      "WARNING:tensorflow:Expected a shuffled dataset but input dataset `x` is not shuffled. Please invoke `shuffle()` on input dataset.\n",
      "Test loss: 0.7952625453472137\n",
      "Test accuracy: 0.840625\n",
      "| \u001b[0m 1       \u001b[0m | \u001b[0m 0.8406  \u001b[0m | \u001b[0m 0.004229\u001b[0m |\n",
      "WARNING:tensorflow:Expected a shuffled dataset but input dataset `x` is not shuffled. Please invoke `shuffle()` on input dataset.\n",
      "Test loss: 0.888016265630722\n",
      "Test accuracy: 0.7875\n",
      "| \u001b[0m 2       \u001b[0m | \u001b[0m 0.7875  \u001b[0m | \u001b[0m 0.007231\u001b[0m |\n",
      "WARNING:tensorflow:Expected a shuffled dataset but input dataset `x` is not shuffled. Please invoke `shuffle()` on input dataset.\n",
      "Test loss: 1.242519164085388\n",
      "Test accuracy: 0.7578125\n",
      "| \u001b[0m 3       \u001b[0m | \u001b[0m 0.7578  \u001b[0m | \u001b[0m 0.000101\u001b[0m |\n",
      "WARNING:tensorflow:Expected a shuffled dataset but input dataset `x` is not shuffled. Please invoke `shuffle()` on input dataset.\n",
      "Test loss: 0.7963742733001709\n",
      "Test accuracy: 0.821875\n",
      "| \u001b[0m 4       \u001b[0m | \u001b[0m 0.8219  \u001b[0m | \u001b[0m 0.003093\u001b[0m |\n",
      "WARNING:tensorflow:Expected a shuffled dataset but input dataset `x` is not shuffled. Please invoke `shuffle()` on input dataset.\n",
      "Test loss: 1.0030888497829438\n",
      "Test accuracy: 0.7765625\n",
      "| \u001b[0m 5       \u001b[0m | \u001b[0m 0.7766  \u001b[0m | \u001b[0m 0.001553\u001b[0m |\n",
      "WARNING:tensorflow:Expected a shuffled dataset but input dataset `x` is not shuffled. Please invoke `shuffle()` on input dataset.\n",
      "Test loss: 0.8926256537437439\n",
      "Test accuracy: 0.8265625\n",
      "| \u001b[0m 6       \u001b[0m | \u001b[0m 0.8266  \u001b[0m | \u001b[0m 0.001014\u001b[0m |\n",
      "WARNING:tensorflow:Expected a shuffled dataset but input dataset `x` is not shuffled. Please invoke `shuffle()` on input dataset.\n",
      "Test loss: 1.093710619211197\n",
      "Test accuracy: 0.7609375\n",
      "| \u001b[0m 7       \u001b[0m | \u001b[0m 0.7609  \u001b[0m | \u001b[0m 0.001944\u001b[0m |\n",
      "WARNING:tensorflow:Expected a shuffled dataset but input dataset `x` is not shuffled. Please invoke `shuffle()` on input dataset.\n",
      "Test loss: 0.7394008815288544\n",
      "Test accuracy: 0.85625\n",
      "| \u001b[95m 8       \u001b[0m | \u001b[95m 0.8562  \u001b[0m | \u001b[95m 0.003521\u001b[0m |\n",
      "WARNING:tensorflow:Expected a shuffled dataset but input dataset `x` is not shuffled. Please invoke `shuffle()` on input dataset.\n",
      "Test loss: 0.7524013757705689\n",
      "Test accuracy: 0.846875\n",
      "| \u001b[0m 9       \u001b[0m | \u001b[0m 0.8469  \u001b[0m | \u001b[0m 0.004028\u001b[0m |\n",
      "WARNING:tensorflow:Expected a shuffled dataset but input dataset `x` is not shuffled. Please invoke `shuffle()` on input dataset.\n",
      "Test loss: 0.887030565738678\n",
      "Test accuracy: 0.8171875\n",
      "| \u001b[0m 10      \u001b[0m | \u001b[0m 0.8172  \u001b[0m | \u001b[0m 0.005434\u001b[0m |\n",
      "=====================================\n"
     ]
    }
   ],
   "source": [
    "optimizer.maximize(init_points=10, n_iter=0, kappa=5)"
   ]
  },
  {
   "cell_type": "code",
   "execution_count": null,
   "metadata": {
    "colab": {},
    "colab_type": "code",
    "id": "if9WhWDLFqql"
   },
   "outputs": [],
   "source": [
    "def posterior(optimizer, x_obs, y_obs, grid):\n",
    "    optimizer._gp.fit(x_obs, y_obs)\n",
    "\n",
    "    mu, sigma = optimizer._gp.predict(grid, return_std=True)\n",
    "    return mu, sigma\n",
    "\n",
    "def plot_gp(optimizer, x, y):\n",
    "    fig = plt.figure(figsize=(16, 10))\n",
    "    steps = len(optimizer.space)\n",
    "    fig.suptitle(\n",
    "        'Gaussian Process and Utility Function After {} Steps'.format(steps),\n",
    "        fontdict={'size':30}\n",
    "    )\n",
    "    \n",
    "    gs = gridspec.GridSpec(2, 1, height_ratios=[3, 1]) \n",
    "    axis = plt.subplot(gs[0])\n",
    "    acq = plt.subplot(gs[1])\n",
    "    \n",
    "    x_obs = np.array([[res[\"params\"][\"lr\"]] for res in optimizer.res])\n",
    "    y_obs = np.array([res[\"target\"] for res in optimizer.res])\n",
    "    \n",
    "    mu, sigma = posterior(optimizer, x_obs, y_obs, x)\n",
    "    axis.plot(x, y, linewidth=3, label='Target')\n",
    "    axis.plot(x_obs.flatten(), y_obs, 'D', markersize=8, label=u'Observations', color='r')\n",
    "    axis.plot(x, mu, '--', color='k', label='Prediction')\n",
    "\n",
    "    axis.fill(np.concatenate([x, x[::-1]]), \n",
    "              np.concatenate([mu - 1.9600 * sigma, (mu + 1.9600 * sigma)[::-1]]),\n",
    "        alpha=.6, fc='c', ec='None', label='95% confidence interval')\n",
    "    \n",
    "    axis.set_xlim((0.0001, 0.005))\n",
    "    axis.set_ylim((None, None))\n",
    "    axis.set_ylabel('f(x)', fontdict={'size':20})\n",
    "    axis.set_xlabel('x', fontdict={'size':20})\n",
    "    \n",
    "    utility_function = UtilityFunction(kind=\"ucb\", kappa=5, xi=0)\n",
    "    utility = utility_function.utility(x, optimizer._gp, 0)\n",
    "    acq.plot(x, utility, label='Utility Function', color='purple')\n",
    "    acq.plot(x[np.argmax(utility)], np.max(utility), '*', markersize=15, \n",
    "             label=u'Next Best Guess', markerfacecolor='gold', markeredgecolor='k', markeredgewidth=1)\n",
    "    acq.set_xlim((0, 0.005))\n",
    "    acq.set_ylim((0, np.max(utility) + 0.5))\n",
    "    acq.set_ylabel('Utility', fontdict={'size':20})\n",
    "    acq.set_xlabel('x', fontdict={'size':20})\n",
    "    \n",
    "    axis.legend(loc=2, bbox_to_anchor=(1.01, 1), borderaxespad=0.)\n",
    "    acq.legend(loc=2, bbox_to_anchor=(1.01, 1), borderaxespad=0.)"
   ]
  },
  {
   "cell_type": "code",
   "execution_count": null,
   "metadata": {
    "colab": {
     "base_uri": "https://localhost:8080/",
     "height": 686
    },
    "colab_type": "code",
    "id": "gmfMH6tsF2hk",
    "outputId": "69c546f1-0916-4b11-b5ea-6eede5bc2302"
   },
   "outputs": [
    {
     "data": {
      "image/png": "[encoded data removed]",
      "text/plain": [
       "<Figure size 1152x720 with 2 Axes>"
      ]
     },
     "metadata": {
      "tags": []
     },
     "output_type": "display_data"
    }
   ],
   "source": [
    "plot_gp(optimizer, x, y)"
   ]
  },
  {
   "cell_type": "code",
   "execution_count": null,
   "metadata": {
    "colab": {
     "base_uri": "https://localhost:8080/",
     "height": 877
    },
    "colab_type": "code",
    "id": "GV7vGDoNGl8R",
    "outputId": "974b002d-4d52-49db-d921-3ac80a30e693"
   },
   "outputs": [
    {
     "name": "stdout",
     "output_type": "stream",
     "text": [
      "|   iter    |  target   |    lr     |\n",
      "-------------------------------------\n",
      "WARNING:tensorflow:Expected a shuffled dataset but input dataset `x` is not shuffled. Please invoke `shuffle()` on input dataset.\n",
      "Test loss: 1.4843734741210937\n",
      "Test accuracy: 0.6921875\n",
      "| \u001b[0m 5       \u001b[0m | \u001b[0m 0.6922  \u001b[0m | \u001b[0m 0.000101\u001b[0m |\n",
      "WARNING:tensorflow:Expected a shuffled dataset but input dataset `x` is not shuffled. Please invoke `shuffle()` on input dataset.\n",
      "Test loss: 0.755805641412735\n",
      "Test accuracy: 0.809375\n",
      "| \u001b[0m 6       \u001b[0m | \u001b[0m 0.8094  \u001b[0m | \u001b[0m 0.009167\u001b[0m |\n",
      "=====================================\n"
     ]
    },
    {
     "data": {
      "image/png": "[encoded data removed]",
      "text/plain": [
       "<Figure size 1152x720 with 2 Axes>"
      ]
     },
     "metadata": {
      "tags": []
     },
     "output_type": "display_data"
    }
   ],
   "source": [
    "optimizer.maximize(init_points=1, n_iter=1, kappa=5)\n",
    "plot_gp(optimizer, x, y)"
   ]
  },
  {
   "cell_type": "code",
   "execution_count": null,
   "metadata": {
    "colab": {
     "base_uri": "https://localhost:8080/",
     "height": 932
    },
    "colab_type": "code",
    "id": "xOK9rLXpJkSa",
    "outputId": "0f029936-28da-47c2-e7bf-790bb3fe1aae"
   },
   "outputs": [
    {
     "name": "stdout",
     "output_type": "stream",
     "text": [
      "|   iter    |  target   |    lr     |\n",
      "-------------------------------------\n",
      "WARNING:tensorflow:Expected a shuffled dataset but input dataset `x` is not shuffled. Please invoke `shuffle()` on input dataset.\n",
      "Test loss: 1.0357949018478394\n",
      "Test accuracy: 0.75625\n",
      "| \u001b[0m 7       \u001b[0m | \u001b[0m 0.7563  \u001b[0m | \u001b[0m 0.003093\u001b[0m |\n",
      "WARNING:tensorflow:Expected a shuffled dataset but input dataset `x` is not shuffled. Please invoke `shuffle()` on input dataset.\n",
      "Test loss: 0.8008688271045685\n",
      "Test accuracy: 0.8296875\n",
      "| \u001b[0m 8       \u001b[0m | \u001b[0m 0.8297  \u001b[0m | \u001b[0m 0.005738\u001b[0m |\n",
      "=====================================\n"
     ]
    },
    {
     "name": "stderr",
     "output_type": "stream",
     "text": [
      "/usr/local/lib/python3.6/dist-packages/sklearn/gaussian_process/gpr.py:469: ConvergenceWarning: fmin_l_bfgs_b terminated abnormally with the  state: {'grad': array([0.00051548]), 'task': b'ABNORMAL_TERMINATION_IN_LNSRCH', 'funcalls': 21, 'nit': 0, 'warnflag': 2}\n",
      "  ConvergenceWarning)\n"
     ]
    },
    {
     "data": {
      "image/png": "[encoded data removed]",
      "text/plain": [
       "<Figure size 1152x720 with 2 Axes>"
      ]
     },
     "metadata": {
      "tags": []
     },
     "output_type": "display_data"
    }
   ],
   "source": [
    "optimizer.maximize(init_points=1, n_iter=1, kappa=5)\n",
    "plot_gp(optimizer, x, y)"
   ]
  },
  {
   "cell_type": "code",
   "execution_count": null,
   "metadata": {
    "colab": {
     "base_uri": "https://localhost:8080/",
     "height": 877
    },
    "colab_type": "code",
    "id": "VELA_KmBY6cC",
    "outputId": "c7fda023-75fa-4c17-e507-fdf583d25782"
   },
   "outputs": [
    {
     "name": "stdout",
     "output_type": "stream",
     "text": [
      "|   iter    |  target   |    lr     |\n",
      "-------------------------------------\n",
      "WARNING:tensorflow:Expected a shuffled dataset but input dataset `x` is not shuffled. Please invoke `shuffle()` on input dataset.\n",
      "Test loss: 1.1095895767211914\n",
      "Test accuracy: 0.74375\n",
      "| \u001b[0m 9       \u001b[0m | \u001b[0m 0.7437  \u001b[0m | \u001b[0m 0.001553\u001b[0m |\n",
      "WARNING:tensorflow:Expected a shuffled dataset but input dataset `x` is not shuffled. Please invoke `shuffle()` on input dataset.\n",
      "Test loss: 0.6944293558597565\n",
      "Test accuracy: 0.8453125\n",
      "| \u001b[0m 10      \u001b[0m | \u001b[0m 0.8453  \u001b[0m | \u001b[0m 0.004973\u001b[0m |\n",
      "=====================================\n"
     ]
    },
    {
     "data": {
      "image/png": "[encoded data removed]",
      "text/plain": [
       "<Figure size 1152x720 with 2 Axes>"
      ]
     },
     "metadata": {
      "tags": []
     },
     "output_type": "display_data"
    }
   ],
   "source": [
    "optimizer.maximize(init_points=1, n_iter=1, kappa=5)\n",
    "plot_gp(optimizer, x, y)"
   ]
  },
  {
   "cell_type": "code",
   "execution_count": null,
   "metadata": {
    "colab": {},
    "colab_type": "code",
    "id": "7OJvKAPpY81G"
   },
   "outputs": [],
   "source": [
    "optimizer.maximize(init_points=0, n_iter=1, kappa=5)\n",
    "plot_gp(optimizer, x, y)"
   ]
  },
  {
   "cell_type": "code",
   "execution_count": 3,
   "metadata": {
    "colab": {},
    "colab_type": "code",
    "id": "TyCb-3UaY__Z"
   },
   "outputs": [
    {
     "name": "stderr",
     "output_type": "stream",
     "text": [
      "Using TensorFlow backend.\n"
     ]
    }
   ],
   "source": [
    "from scipy.io import loadmat\n",
    "import gzip\n",
    "import numpy as np\n",
    "import pandas as pd\n",
    "from time import time\n",
    "from sklearn.model_selection import train_test_split\n",
    "import tensorflow\n",
    "import keras\n",
    "import keras.layers as layers\n",
    "from keras.models import Sequential\n",
    "from keras.preprocessing.image import ImageDataGenerator\n",
    "from keras.utils.np_utils import to_categorical\n",
    "from tensorflow.keras.callbacks import TensorBoard\n",
    "from matplotlib import pyplot as plt\n",
    "from sklearn.model_selection import RandomizedSearchCV, KFold\n",
    "from sklearn.model_selection import GridSearchCV\n",
    "from keras.wrappers.scikit_learn import KerasClassifier\n",
    "from keras.layers import Dense\n",
    "from keras.optimizers import Adam"
   ]
  },
  {
   "cell_type": "code",
   "execution_count": 4,
   "metadata": {},
   "outputs": [],
   "source": [
    "x = loadmat('svhn_data/train_32x32.mat')\n",
    "y = loadmat('svhn_data/test_32x32.mat')"
   ]
  },
  {
   "cell_type": "code",
   "execution_count": 5,
   "metadata": {},
   "outputs": [],
   "source": [
    "def create_model(lr = 0.001, decay = 0.0001,DROPOUT_P1 = 0.2,DROPOUT_P2 = 0.2 ):\n",
    "\n",
    "    model = Sequential()\n",
    "    model.add(layers.Conv2D(filters=6, kernel_size=(3, 3), activation='relu', input_shape=(32,32,3)))\n",
    "    model.add(layers.AveragePooling2D())\n",
    "\n",
    "    model.add(layers.Conv2D(filters=16, kernel_size=(3, 3), activation='relu'))\n",
    "    model.add(layers.AveragePooling2D())\n",
    "    model.add(layers.Flatten())\n",
    "\n",
    "    model.add(layers.Dense(units=120, activation='relu'))\n",
    "    model.add(layers.Dropout(rate=DROPOUT_P1, seed=1))\n",
    "    model.add(layers.Dense(units=84, activation='relu'))\n",
    "    model.add(layers.Dropout(rate=DROPOUT_P2, seed=1))\n",
    "    model.add(layers.Dense(units=10, activation = 'softmax'))\n",
    "    #, kernel_initializer=\"glorot_uniform\", bias_initializer=\"zeros\")\n",
    "    model.compile(loss=keras.losses.categorical_crossentropy, optimizer=keras.optimizers.Adam(lr=lr,decay=decay), metrics=['accuracy'])\n",
    "#      model = keras.Sequential()\n",
    "#      model.add(layers.Conv2D(filters=32, kernel_size=(5, 5), activation='relu', input_shape=(32,32,3), strides=1, padding='same', kernel_initializer=\"he_uniform\", bias_initializer=\"zeros\"))\n",
    "#      #model.add(layers.AveragePooling2D())\n",
    "    \n",
    "#      model.add(layers.Conv2D(filters=64, kernel_size=(3, 3), activation='relu', strides=1, padding='same', kernel_initializer=\"he_uniform\", bias_initializer=\"zeros\"))\n",
    "#      #model.add(layers.AveragePooling2D())\n",
    "#      model.add(layers.Conv2D(filters=128, kernel_size=(3, 3), activation='relu', strides=1, padding='same', kernel_initializer=\"he_uniform\", bias_initializer=\"zeros\"))\n",
    "    \n",
    "#      model.add(layers.Flatten())\n",
    "    \n",
    "#      model.add(layers.Dense(units=1024, activation='relu', kernel_initializer=\"glorot_uniform\", bias_initializer=\"zeros\"))\n",
    "#      model.add(layers.Dropout(rate=DROPOUT_P1, seed=1))\n",
    "#      model.add(layers.Dense(units=1024, activation='relu', kernel_initializer=\"glorot_uniform\", bias_initializer=\"zeros\"))\n",
    "#      model.add(layers.Dropout(rate=DROPOUT_P2, seed=1))\n",
    "#      model.add(layers.Dense(units=10, activation = 'softmax'))\n",
    "#      model.compile(loss=\"categorical_crossentropy\", optimizer=Adam(lr=lr,decay=decay), metrics=['accuracy'])\n",
    "    return model"
   ]
  },
  {
   "cell_type": "code",
   "execution_count": 6,
   "metadata": {},
   "outputs": [],
   "source": [
    "train_labels = x['y']"
   ]
  },
  {
   "cell_type": "code",
   "execution_count": 7,
   "metadata": {},
   "outputs": [],
   "source": [
    "train_features = np.swapaxes(np.swapaxes(np.swapaxes(x['X'],2,3), 1,2), 0,1)"
   ]
  },
  {
   "cell_type": "code",
   "execution_count": 8,
   "metadata": {},
   "outputs": [],
   "source": [
    "test_labels = y['y']"
   ]
  },
  {
   "cell_type": "code",
   "execution_count": 9,
   "metadata": {},
   "outputs": [
    {
     "data": {
      "text/html": [
       "<div>\n",
       "<style scoped>\n",
       "    .dataframe tbody tr th:only-of-type {\n",
       "        vertical-align: middle;\n",
       "    }\n",
       "\n",
       "    .dataframe tbody tr th {\n",
       "        vertical-align: top;\n",
       "    }\n",
       "\n",
       "    .dataframe thead th {\n",
       "        text-align: right;\n",
       "    }\n",
       "</style>\n",
       "<table border=\"1\" class=\"dataframe\">\n",
       "  <thead>\n",
       "    <tr style=\"text-align: right;\">\n",
       "      <th></th>\n",
       "      <th>Label</th>\n",
       "      <th>Count</th>\n",
       "    </tr>\n",
       "  </thead>\n",
       "  <tbody>\n",
       "    <tr>\n",
       "      <th>0</th>\n",
       "      <td>1</td>\n",
       "      <td>13861</td>\n",
       "    </tr>\n",
       "    <tr>\n",
       "      <th>1</th>\n",
       "      <td>2</td>\n",
       "      <td>10585</td>\n",
       "    </tr>\n",
       "    <tr>\n",
       "      <th>2</th>\n",
       "      <td>3</td>\n",
       "      <td>8497</td>\n",
       "    </tr>\n",
       "    <tr>\n",
       "      <th>3</th>\n",
       "      <td>4</td>\n",
       "      <td>7458</td>\n",
       "    </tr>\n",
       "    <tr>\n",
       "      <th>4</th>\n",
       "      <td>5</td>\n",
       "      <td>6882</td>\n",
       "    </tr>\n",
       "    <tr>\n",
       "      <th>5</th>\n",
       "      <td>6</td>\n",
       "      <td>5727</td>\n",
       "    </tr>\n",
       "    <tr>\n",
       "      <th>6</th>\n",
       "      <td>7</td>\n",
       "      <td>5595</td>\n",
       "    </tr>\n",
       "    <tr>\n",
       "      <th>7</th>\n",
       "      <td>8</td>\n",
       "      <td>5045</td>\n",
       "    </tr>\n",
       "    <tr>\n",
       "      <th>8</th>\n",
       "      <td>9</td>\n",
       "      <td>4659</td>\n",
       "    </tr>\n",
       "    <tr>\n",
       "      <th>9</th>\n",
       "      <td>10</td>\n",
       "      <td>4948</td>\n",
       "    </tr>\n",
       "  </tbody>\n",
       "</table>\n",
       "</div>"
      ],
      "text/plain": [
       "   Label  Count\n",
       "0      1  13861\n",
       "1      2  10585\n",
       "2      3   8497\n",
       "3      4   7458\n",
       "4      5   6882\n",
       "5      6   5727\n",
       "6      7   5595\n",
       "7      8   5045\n",
       "8      9   4659\n",
       "9     10   4948"
      ]
     },
     "execution_count": 9,
     "metadata": {},
     "output_type": "execute_result"
    }
   ],
   "source": [
    "test_features = np.swapaxes(np.swapaxes(np.swapaxes(y['X'],2,3), 1,2), 0,1)\n",
    "train_labels_count = np.unique(train_labels, return_counts=True)\n",
    "dataframe_train_labels = pd.DataFrame({'Label':train_labels_count[0], 'Count':train_labels_count[1]})\n",
    "dataframe_train_labels"
   ]
  },
  {
   "cell_type": "code",
   "execution_count": 10,
   "metadata": {},
   "outputs": [
    {
     "name": "stdout",
     "output_type": "stream",
     "text": [
      "# of training images: 14652\n",
      "# of validation images: 14652\n"
     ]
    }
   ],
   "source": [
    "# ## Train Test Split\n",
    "\n",
    "\n",
    "\n",
    "validation = {}\n",
    "train_features, validation_features, train_labels, validation_labels = train_test_split(train_features, train_labels, test_size=0.2, random_state=0)\n",
    "train_features,train_labels = validation_features,validation_labels\n",
    "\n",
    "\n",
    "\n",
    "train_labels.shape\n",
    "\n",
    "\n",
    "\n",
    "\n",
    "print('# of training images:', train_features.shape[0])\n",
    "print('# of validation images:', validation_features.shape[0])"
   ]
  },
  {
   "cell_type": "code",
   "execution_count": 11,
   "metadata": {},
   "outputs": [],
   "source": [
    "\n",
    "#def create_model(lr = 0.001, decay = 0.0001,DROPOUT_P1 = 0.2,DROPOUT_P2 = 0.2 ):\n",
    "#    \n",
    "#     model = Sequential()\n",
    "#     model.add(layers.Conv2D(filters=6, kernel_size=(3, 3), activation='relu', input_shape=(32,32,3)))\n",
    "#     model.add(layers.AveragePooling2D())\n",
    "#    \n",
    "#     model.add(layers.Conv2D(filters=16, kernel_size=(3, 3), activation='relu'))\n",
    "#     model.add(layers.AveragePooling2D())\n",
    "#     model.add(layers.Flatten())\n",
    "#    \n",
    "#     model.add(layers.Dense(units=120, activation='relu'))\n",
    "#     model.add(layers.Dropout(rate=DROPOUT_P1, seed=1))\n",
    "#     model.add(layers.Dense(units=84, activation='relu'))\n",
    "#     model.add(layers.Dropout(rate=DROPOUT_P2, seed=1))\n",
    "#     model.add(layers.Dense(units=10, activation = 'softmax'))\n",
    "#     #, kernel_initializer=\"glorot_uniform\", bias_initializer=\"zeros\")\n",
    "#     model.compile(loss='categorical_crossentropy', optimizer=tensorflow.keras.optimizers.Adam(lr=lr,decay=decay), metrics=['accuracy'])\n",
    "#     return model\n",
    "\n",
    "      \n",
    "\n",
    "X_train, y_train = train_features,to_categorical(train_labels)[:,1:]\n",
    "# X_train = train_features\n",
    "\n",
    "X_validation, y_validation = validation_features, to_categorical(validation_labels)[:,1:]\n",
    "\n",
    "lr = list(np.logspace(np.log(0.00001), np.log(0.01), num = 100, base=3))\n",
    "decay = list(np.logspace(np.log(0.0001), np.log(0.1), num = 10, base=2.73))\n",
    "batch_size = [16,32,64,128,256]\n",
    "DROPOUT_P2 = np.random.uniform(0.1,0.7,size=(10,))\n",
    "DROPOUT_P1 = np.random.uniform(0.1,0.7,size=(10,))\n",
    "\n",
    "#param_random = {'lr' : lr, 'decay' : decay,'batch_size' : batch_size,'DROPOUT_P1' : DROPOUT_P1,'DROPOUT_P2' : DROPOUT_P2, 'batch_size' : batch_size}\n",
    "param_random = {'lr' : lr}"
   ]
  },
  {
   "cell_type": "code",
   "execution_count": 12,
   "metadata": {},
   "outputs": [],
   "source": [
    "model = KerasClassifier(build_fn = create_model,verbose=1)\n",
    "random = RandomizedSearchCV(estimator=model, param_distributions=param_random, \n",
    "                          verbose=20,  n_iter=30, n_jobs=5,scoring = 'neg_log_loss')"
   ]
  },
  {
   "cell_type": "code",
   "execution_count": null,
   "metadata": {},
   "outputs": [
    {
     "name": "stdout",
     "output_type": "stream",
     "text": [
      "Fitting 3 folds for each of 30 candidates, totalling 90 fits\n"
     ]
    }
   ],
   "source": [
    "# random_fit= random.fit(X_train, y_train)"
   ]
  },
  {
   "cell_type": "code",
   "execution_count": null,
   "metadata": {},
   "outputs": [],
   "source": [
    "# random_results = pd.DataFrame(random_fit.cv_results_)\n",
    "# random_results.to_csv(\"random_search_results.csv\")\n",
    "# print(random_fit.best_score_)\n",
    "# print(random_fit.best_estimator_)"
   ]
  },
  {
   "cell_type": "code",
   "execution_count": null,
   "metadata": {},
   "outputs": [
    {
     "name": "stdout",
     "output_type": "stream",
     "text": [
      "Fitting 3 folds for each of 720 candidates, totalling 2160 fits\n",
      "[CV] DROPOUT_P1=0, DROPOUT_P2=0, batch_size=16, decay=1e-06, lr=0.01 .\n",
      "WARNING:tensorflow:From C:\\Users\\Ankush\\Anaconda3\\lib\\site-packages\\tensorflow\\python\\framework\\op_def_library.py:263: colocate_with (from tensorflow.python.framework.ops) is deprecated and will be removed in a future version.\n",
      "Instructions for updating:\n",
      "Colocations handled automatically by placer.\n",
      "WARNING:tensorflow:From C:\\Users\\Ankush\\Anaconda3\\lib\\site-packages\\tensorflow\\python\\ops\\math_ops.py:3066: to_int32 (from tensorflow.python.ops.math_ops) is deprecated and will be removed in a future version.\n",
      "Instructions for updating:\n",
      "Use tf.cast instead.\n",
      "Epoch 1/1\n",
      " 208/9768 [..............................] - ETA: 5:52 - loss: 15.4847 - acc: 0.0385   "
     ]
    }
   ],
   "source": [
    "# ############# Grid Search#############\n",
    "\n",
    "# lr=[1e-2, 1e-3, 1e-4]\n",
    "# decay=[1e-6,1e-9,0]\n",
    "# dropout1 = [0, 0.1, 0.2, 0.3]\n",
    "# dropout2 = [0,0.1,0.2,0.3]\n",
    "# param_grid = dict(lr = lr, decay = decay, batch_size = batch_size,DROPOUT_P1 = dropout1, DROPOUT_P2 = dropout2)\n",
    "\n",
    "# grid = GridSearchCV(estimator=model, cv=KFold(3), param_grid=param_grid, \n",
    "#                           verbose=20, n_jobs=1,scoring = 'neg_log_loss')\n",
    "\n",
    "# grid_fit = grid.fit(X_train, y_train)\n",
    "\n",
    "# grid_result = pd.DataFrame(grid.cv_results_)\n",
    "# grid_result.to_csv('gridsearch_result.csv')\n",
    "# print(grid_result.best_params_)\n",
    "\n",
    "# best_model = grid_result.best_estimator_\n",
    "# #\n",
    "# #lr = list(np.logspace(np.log(0.01), np.log(1), num = 10, base=3))\n",
    "# #lr_decay = list(np.logspace(np.log(0.0001), np.log(0.1), num = 10, base=2.73))\n",
    "# #batch_size = [16,32,64,128,256]\n",
    "# #dropout = np.random.uniform(0.1,0.7,size=(10,))"
   ]
  },
  {
   "cell_type": "code",
   "execution_count": null,
   "metadata": {},
   "outputs": [
    {
     "name": "stdout",
     "output_type": "stream",
     "text": [
      "Fitting 2 folds for each of 50 candidates, totalling 100 fits\n",
      "[CV] DROPOUT_P1=0.2, DROPOUT_P2=0.2, batch_size=128, decay=0.0, lr=0.02 \n",
      "WARNING:tensorflow:From C:\\Users\\Ankush\\Anaconda3\\lib\\site-packages\\tensorflow\\python\\framework\\op_def_library.py:263: colocate_with (from tensorflow.python.framework.ops) is deprecated and will be removed in a future version.\n",
      "Instructions for updating:\n",
      "Colocations handled automatically by placer.\n",
      "WARNING:tensorflow:From C:\\Users\\Ankush\\Anaconda3\\lib\\site-packages\\keras\\backend\\tensorflow_backend.py:3445: calling dropout (from tensorflow.python.ops.nn_ops) with keep_prob is deprecated and will be removed in a future version.\n",
      "Instructions for updating:\n",
      "Please use `rate` instead of `keep_prob`. Rate should be set to `rate = 1 - keep_prob`.\n",
      "WARNING:tensorflow:From C:\\Users\\Ankush\\Anaconda3\\lib\\site-packages\\tensorflow\\python\\ops\\math_ops.py:3066: to_int32 (from tensorflow.python.ops.math_ops) is deprecated and will be removed in a future version.\n",
      "Instructions for updating:\n",
      "Use tf.cast instead.\n",
      "Epoch 1/1\n",
      "7326/7326 [==============================] - 7s 967us/step - loss: 14.9090 - acc: 0.0738\n",
      "7326/7326 [==============================] - 0s 35us/step\n",
      "7326/7326 [==============================] - 0s 28us/step\n",
      "[CV]  DROPOUT_P1=0.2, DROPOUT_P2=0.2, batch_size=128, decay=0.0, lr=0.02, score=-32.082497049738336, total=   8.0s\n",
      "[CV] DROPOUT_P1=0.2, DROPOUT_P2=0.2, batch_size=128, decay=0.0, lr=0.02 \n"
     ]
    },
    {
     "name": "stderr",
     "output_type": "stream",
     "text": [
      "[Parallel(n_jobs=1)]: Done   1 out of   1 | elapsed:    8.2s remaining:    0.0s\n"
     ]
    },
    {
     "name": "stdout",
     "output_type": "stream",
     "text": [
      "Epoch 1/1\n",
      "7326/7326 [==============================] - 1s 106us/step - loss: 13.7754 - acc: 0.1452\n",
      "7326/7326 [==============================] - 0s 35us/step\n",
      "7326/7326 [==============================] - 0s 31us/step\n",
      "[CV]  DROPOUT_P1=0.2, DROPOUT_P2=0.2, batch_size=128, decay=0.0, lr=0.02, score=-29.357488483280033, total=   1.5s\n",
      "[CV] DROPOUT_P1=0.2, DROPOUT_P2=0.2, batch_size=128, decay=0.01020408163265306, lr=0.02 \n"
     ]
    },
    {
     "name": "stderr",
     "output_type": "stream",
     "text": [
      "[Parallel(n_jobs=1)]: Done   2 out of   2 | elapsed:   10.0s remaining:    0.0s\n"
     ]
    },
    {
     "name": "stdout",
     "output_type": "stream",
     "text": [
      "Epoch 1/1\n",
      "7326/7326 [==============================] - 1s 118us/step - loss: 3.0333 - acc: 0.1788\n",
      "7326/7326 [==============================] - 0s 37us/step\n",
      "7326/7326 [==============================] - 0s 28us/step\n",
      "[CV]  DROPOUT_P1=0.2, DROPOUT_P2=0.2, batch_size=128, decay=0.01020408163265306, lr=0.02, score=-2.239908850375271, total=   1.5s\n",
      "[CV] DROPOUT_P1=0.2, DROPOUT_P2=0.2, batch_size=128, decay=0.01020408163265306, lr=0.02 \n"
     ]
    },
    {
     "name": "stderr",
     "output_type": "stream",
     "text": [
      "[Parallel(n_jobs=1)]: Done   3 out of   3 | elapsed:   11.8s remaining:    0.0s\n"
     ]
    },
    {
     "name": "stdout",
     "output_type": "stream",
     "text": [
      "Epoch 1/1\n",
      "7326/7326 [==============================] - 1s 118us/step - loss: 2.6525 - acc: 0.1803\n",
      "7326/7326 [==============================] - 0s 40us/step\n",
      "7326/7326 [==============================] - 0s 26us/step\n",
      "[CV]  DROPOUT_P1=0.2, DROPOUT_P2=0.2, batch_size=128, decay=0.01020408163265306, lr=0.02, score=-2.2395368943831455, total=   1.5s\n",
      "[CV] DROPOUT_P1=0.2, DROPOUT_P2=0.2, batch_size=128, decay=0.02040816326530612, lr=0.02 \n"
     ]
    },
    {
     "name": "stderr",
     "output_type": "stream",
     "text": [
      "[Parallel(n_jobs=1)]: Done   4 out of   4 | elapsed:   13.6s remaining:    0.0s\n"
     ]
    },
    {
     "name": "stdout",
     "output_type": "stream",
     "text": [
      "Epoch 1/1\n",
      "7326/7326 [==============================] - 1s 123us/step - loss: 3.3852 - acc: 0.1770\n",
      "7326/7326 [==============================] - 0s 43us/step\n",
      "7326/7326 [==============================] - 0s 26us/step\n",
      "[CV]  DROPOUT_P1=0.2, DROPOUT_P2=0.2, batch_size=128, decay=0.02040816326530612, lr=0.02, score=-2.240172766919934, total=   1.6s\n",
      "[CV] DROPOUT_P1=0.2, DROPOUT_P2=0.2, batch_size=128, decay=0.02040816326530612, lr=0.02 \n"
     ]
    },
    {
     "name": "stderr",
     "output_type": "stream",
     "text": [
      "[Parallel(n_jobs=1)]: Done   5 out of   5 | elapsed:   15.6s remaining:    0.0s\n"
     ]
    },
    {
     "name": "stdout",
     "output_type": "stream",
     "text": [
      "Epoch 1/1\n",
      "7326/7326 [==============================] - 1s 141us/step - loss: 13.1143 - acc: 0.1856\n",
      "7326/7326 [==============================] - 0s 50us/step\n",
      "7326/7326 [==============================] - 0s 27us/step\n",
      "[CV]  DROPOUT_P1=0.2, DROPOUT_P2=0.2, batch_size=128, decay=0.02040816326530612, lr=0.02, score=-28.145849726221584, total=   1.7s\n",
      "[CV] DROPOUT_P1=0.2, DROPOUT_P2=0.2, batch_size=128, decay=0.030612244897959183, lr=0.02 \n"
     ]
    },
    {
     "name": "stderr",
     "output_type": "stream",
     "text": [
      "[Parallel(n_jobs=1)]: Done   6 out of   6 | elapsed:   17.6s remaining:    0.0s\n"
     ]
    },
    {
     "name": "stdout",
     "output_type": "stream",
     "text": [
      "Epoch 1/1\n",
      "7326/7326 [==============================] - 1s 143us/step - loss: 13.1345 - acc: 0.1832\n",
      "7326/7326 [==============================] - 0s 48us/step\n",
      "7326/7326 [==============================] - 0s 26us/step\n",
      "[CV]  DROPOUT_P1=0.2, DROPOUT_P2=0.2, batch_size=128, decay=0.030612244897959183, lr=0.02, score=-28.075131510829067, total=   1.8s\n",
      "[CV] DROPOUT_P1=0.2, DROPOUT_P2=0.2, batch_size=128, decay=0.030612244897959183, lr=0.02 \n"
     ]
    },
    {
     "name": "stderr",
     "output_type": "stream",
     "text": [
      "[Parallel(n_jobs=1)]: Done   7 out of   7 | elapsed:   19.8s remaining:    0.0s\n"
     ]
    },
    {
     "name": "stdout",
     "output_type": "stream",
     "text": [
      "Epoch 1/1\n",
      "7326/7326 [==============================] - 1s 150us/step - loss: 14.8782 - acc: 0.0753\n",
      "7326/7326 [==============================] - 0s 54us/step\n",
      "7326/7326 [==============================] - 0s 26us/step\n",
      "[CV]  DROPOUT_P1=0.2, DROPOUT_P2=0.2, batch_size=128, decay=0.030612244897959183, lr=0.02, score=-31.941060618953305, total=   1.8s\n",
      "[CV] DROPOUT_P1=0.2, DROPOUT_P2=0.2, batch_size=128, decay=0.04081632653061224, lr=0.02 \n"
     ]
    },
    {
     "name": "stderr",
     "output_type": "stream",
     "text": [
      "[Parallel(n_jobs=1)]: Done   8 out of   8 | elapsed:   21.9s remaining:    0.0s\n"
     ]
    },
    {
     "name": "stdout",
     "output_type": "stream",
     "text": [
      "Epoch 1/1\n",
      "7326/7326 [==============================] - 1s 155us/step - loss: 14.5766 - acc: 0.0954\n",
      "7326/7326 [==============================] - 0s 54us/step\n",
      "7326/7326 [==============================] - 0s 27us/step\n",
      "[CV]  DROPOUT_P1=0.2, DROPOUT_P2=0.2, batch_size=128, decay=0.04081632653061224, lr=0.02, score=-31.248022108106642, total=   2.0s\n",
      "[CV] DROPOUT_P1=0.2, DROPOUT_P2=0.2, batch_size=128, decay=0.04081632653061224, lr=0.02 \n"
     ]
    },
    {
     "name": "stderr",
     "output_type": "stream",
     "text": [
      "[Parallel(n_jobs=1)]: Done   9 out of   9 | elapsed:   24.2s remaining:    0.0s\n"
     ]
    },
    {
     "name": "stdout",
     "output_type": "stream",
     "text": [
      "Epoch 1/1\n",
      "7326/7326 [==============================] - 1s 158us/step - loss: 13.1069 - acc: 0.1856\n",
      "7326/7326 [==============================] - 0s 61us/step\n",
      "7326/7326 [==============================] - 0s 33us/step\n",
      "[CV]  DROPOUT_P1=0.2, DROPOUT_P2=0.2, batch_size=128, decay=0.04081632653061224, lr=0.02, score=-28.145849726221584, total=   2.0s\n",
      "[CV] DROPOUT_P1=0.2, DROPOUT_P2=0.2, batch_size=128, decay=0.0510204081632653, lr=0.02 \n"
     ]
    },
    {
     "name": "stderr",
     "output_type": "stream",
     "text": [
      "[Parallel(n_jobs=1)]: Done  10 out of  10 | elapsed:   26.5s remaining:    0.0s\n"
     ]
    },
    {
     "name": "stdout",
     "output_type": "stream",
     "text": [
      "Epoch 1/1\n",
      "7326/7326 [==============================] - 1s 171us/step - loss: 2.6438 - acc: 0.1690\n",
      "7326/7326 [==============================] - 0s 64us/step\n",
      "7326/7326 [==============================] - 0s 27us/step\n",
      "[CV]  DROPOUT_P1=0.2, DROPOUT_P2=0.2, batch_size=128, decay=0.0510204081632653, lr=0.02, score=-2.2390794037080286, total=   2.1s\n",
      "[CV] DROPOUT_P1=0.2, DROPOUT_P2=0.2, batch_size=128, decay=0.0510204081632653, lr=0.02 \n"
     ]
    },
    {
     "name": "stderr",
     "output_type": "stream",
     "text": [
      "[Parallel(n_jobs=1)]: Done  11 out of  11 | elapsed:   28.9s remaining:    0.0s\n"
     ]
    },
    {
     "name": "stdout",
     "output_type": "stream",
     "text": [
      "Epoch 1/1\n",
      "7326/7326 [==============================] - 1s 176us/step - loss: 14.8930 - acc: 0.0755\n",
      "7326/7326 [==============================] - 0s 64us/step\n",
      "7326/7326 [==============================] - 0s 28us/step\n",
      "[CV]  DROPOUT_P1=0.2, DROPOUT_P2=0.2, batch_size=128, decay=0.0510204081632653, lr=0.02, score=-31.95991880972464, total=   2.2s\n",
      "[CV] DROPOUT_P1=0.2, DROPOUT_P2=0.2, batch_size=128, decay=0.061224489795918366, lr=0.02 \n"
     ]
    },
    {
     "name": "stderr",
     "output_type": "stream",
     "text": [
      "[Parallel(n_jobs=1)]: Done  12 out of  12 | elapsed:   31.4s remaining:    0.0s\n"
     ]
    },
    {
     "name": "stdout",
     "output_type": "stream",
     "text": [
      "Epoch 1/1\n",
      "7326/7326 [==============================] - 2s 216us/step - loss: 13.2508 - acc: 0.1759\n",
      "7326/7326 [==============================] - 1s 73us/step\n",
      "7326/7326 [==============================] - 0s 31us/step\n",
      "[CV]  DROPOUT_P1=0.2, DROPOUT_P2=0.2, batch_size=128, decay=0.061224489795918366, lr=0.02, score=-28.075131510829067, total=   2.5s\n",
      "[CV] DROPOUT_P1=0.2, DROPOUT_P2=0.2, batch_size=128, decay=0.061224489795918366, lr=0.02 \n"
     ]
    },
    {
     "name": "stderr",
     "output_type": "stream",
     "text": [
      "[Parallel(n_jobs=1)]: Done  13 out of  13 | elapsed:   34.2s remaining:    0.0s\n"
     ]
    },
    {
     "name": "stdout",
     "output_type": "stream",
     "text": [
      "Epoch 1/1\n",
      "7326/7326 [==============================] - 1s 196us/step - loss: 13.1442 - acc: 0.1832\n",
      "7326/7326 [==============================] - 1s 74us/step\n",
      "7326/7326 [==============================] - 0s 32us/step\n",
      "[CV]  DROPOUT_P1=0.2, DROPOUT_P2=0.2, batch_size=128, decay=0.061224489795918366, lr=0.02, score=-28.145849726221584, total=   2.3s\n",
      "[CV] DROPOUT_P1=0.2, DROPOUT_P2=0.2, batch_size=128, decay=0.07142857142857142, lr=0.02 \n"
     ]
    },
    {
     "name": "stderr",
     "output_type": "stream",
     "text": [
      "[Parallel(n_jobs=1)]: Done  14 out of  14 | elapsed:   36.9s remaining:    0.0s\n"
     ]
    },
    {
     "name": "stdout",
     "output_type": "stream",
     "text": [
      "Epoch 1/1\n",
      "7326/7326 [==============================] - 1s 193us/step - loss: 13.7010 - acc: 0.1492\n",
      "7326/7326 [==============================] - 1s 74us/step\n",
      "7326/7326 [==============================] - 0s 29us/step\n",
      "[CV]  DROPOUT_P1=0.2, DROPOUT_P2=0.2, batch_size=128, decay=0.07142857142857142, lr=0.02, score=-29.517783104836404, total=   2.3s\n",
      "[CV] DROPOUT_P1=0.2, DROPOUT_P2=0.2, batch_size=128, decay=0.07142857142857142, lr=0.02 \n"
     ]
    },
    {
     "name": "stderr",
     "output_type": "stream",
     "text": [
      "[Parallel(n_jobs=1)]: Done  15 out of  15 | elapsed:   39.6s remaining:    0.0s\n"
     ]
    },
    {
     "name": "stdout",
     "output_type": "stream",
     "text": [
      "Epoch 1/1\n",
      "7326/7326 [==============================] - 1s 202us/step - loss: 13.1252 - acc: 0.1843\n",
      "7326/7326 [==============================] - 1s 78us/step\n",
      "7326/7326 [==============================] - 0s 29us/step\n",
      "[CV]  DROPOUT_P1=0.2, DROPOUT_P2=0.2, batch_size=128, decay=0.07142857142857142, lr=0.02, score=-28.145849726221584, total=   2.5s\n",
      "[CV] DROPOUT_P1=0.2, DROPOUT_P2=0.2, batch_size=128, decay=0.08163265306122448, lr=0.02 \n"
     ]
    },
    {
     "name": "stderr",
     "output_type": "stream",
     "text": [
      "[Parallel(n_jobs=1)]: Done  16 out of  16 | elapsed:   42.4s remaining:    0.0s\n"
     ]
    },
    {
     "name": "stdout",
     "output_type": "stream",
     "text": [
      "Epoch 1/1\n",
      "7326/7326 [==============================] - 2s 211us/step - loss: 14.2966 - acc: 0.1127\n",
      "7326/7326 [==============================] - 1s 82us/step\n",
      "7326/7326 [==============================] - 0s 28us/step\n",
      "[CV]  DROPOUT_P1=0.2, DROPOUT_P2=0.2, batch_size=128, decay=0.08163265306122448, lr=0.02, score=-30.56441269264565, total=   2.5s\n",
      "[CV] DROPOUT_P1=0.2, DROPOUT_P2=0.2, batch_size=128, decay=0.08163265306122448, lr=0.02 \n"
     ]
    },
    {
     "name": "stderr",
     "output_type": "stream",
     "text": [
      "[Parallel(n_jobs=1)]: Done  17 out of  17 | elapsed:   45.3s remaining:    0.0s\n"
     ]
    },
    {
     "name": "stdout",
     "output_type": "stream",
     "text": [
      "Epoch 1/1\n",
      "7326/7326 [==============================] - 2s 221us/step - loss: 15.0456 - acc: 0.0663\n",
      "7326/7326 [==============================] - 1s 82us/step\n",
      "7326/7326 [==============================] - 0s 28us/step\n",
      "[CV]  DROPOUT_P1=0.2, DROPOUT_P2=0.2, batch_size=128, decay=0.08163265306122448, lr=0.02, score=-32.200360742059196, total=   2.6s\n",
      "[CV] DROPOUT_P1=0.2, DROPOUT_P2=0.2, batch_size=128, decay=0.09183673469387754, lr=0.02 \n"
     ]
    },
    {
     "name": "stderr",
     "output_type": "stream",
     "text": [
      "[Parallel(n_jobs=1)]: Done  18 out of  18 | elapsed:   48.2s remaining:    0.0s\n"
     ]
    },
    {
     "name": "stdout",
     "output_type": "stream",
     "text": [
      "Epoch 1/1\n",
      "7326/7326 [==============================] - 2s 220us/step - loss: 14.8960 - acc: 0.0745\n",
      "7326/7326 [==============================] - 1s 85us/step\n",
      "7326/7326 [==============================] - 0s 28us/step\n",
      "[CV]  DROPOUT_P1=0.2, DROPOUT_P2=0.2, batch_size=128, decay=0.09183673469387754, lr=0.02, score=-31.95048971433897, total=   2.6s\n",
      "[CV] DROPOUT_P1=0.2, DROPOUT_P2=0.2, batch_size=128, decay=0.09183673469387754, lr=0.02 \n"
     ]
    },
    {
     "name": "stderr",
     "output_type": "stream",
     "text": [
      "[Parallel(n_jobs=1)]: Done  19 out of  19 | elapsed:   51.1s remaining:    0.0s\n"
     ]
    },
    {
     "name": "stdout",
     "output_type": "stream",
     "text": [
      "Epoch 1/1\n",
      "6272/7326 [========================>.....] - ETA: 0s - loss: 14.2897 - acc: 0.1127"
     ]
    }
   ],
   "source": [
    "############# Grid Search#############\n",
    "\n",
    "#lr=[1e-2, 1e-3, 1e-4]\n",
    "lr = np.array([0.02]) \n",
    "#lr = list(np.logspace(np.log(0.001), np.log(0.1), num = 50, base=3))\n",
    "#decay=[1e-6,1e-9,0]\n",
    "decay = list(np.linspace(0, 0.5, num = 50))\n",
    "#dropout1 = [0, 0.1, 0.2, 0.3]\n",
    "dropout1 = np.array([0.2])\n",
    "dropout2 = np.array([0.2])\n",
    "#dropout2 = [0,0.1,0.2,0.3]\n",
    "batch_size = np.array([128])\n",
    "\n",
    "param_grid = dict(lr = lr, decay = decay, batch_size = batch_size,DROPOUT_P1 = dropout1, DROPOUT_P2 = dropout2)\n",
    "\n",
    "grid = GridSearchCV(estimator=model, cv=KFold(2), param_grid=param_grid, \n",
    "                          verbose=20, n_jobs=1,scoring = 'neg_log_loss')\n",
    "\n",
    "grid_fit = grid.fit(X_train, y_train)\n",
    "\n",
    "grid_result = pd.DataFrame(grid.cv_results_)\n",
    "grid_result.to_csv('decay_gridsearch_result.csv')\n",
    "print(grid_result.best_params_)\n",
    "\n",
    "best_model = grid_result.best_estimator_\n",
    "#\n",
    "#lr = list(np.logspace(np.log(0.01), np.log(1), num = 10, base=3))\n",
    "#lr_decay = list(np.logspace(np.log(0.0001), np.log(0.1), num = 10, base=2.73))\n",
    "#batch_size = [16,32,64,128,256]\n",
    "#dropout = np.random.uniform(0.1,0.7,size=(10,))"
   ]
  },
  {
   "cell_type": "code",
   "execution_count": 13,
   "metadata": {},
   "outputs": [
    {
     "data": {
      "text/plain": [
       "{'DROPOUT_P1': 0.2,\n",
       " 'DROPOUT_P2': 0.2,\n",
       " 'batch_size': 128,\n",
       " 'decay': 1e-06,\n",
       " 'lr': 0.0023811288804543333}"
      ]
     },
     "execution_count": 13,
     "metadata": {},
     "output_type": "execute_result"
    }
   ],
   "source": [
    "grid.best_params_"
   ]
  },
  {
   "cell_type": "code",
   "execution_count": null,
   "metadata": {},
   "outputs": [],
   "source": []
  }
 ],
 "metadata": {
  "accelerator": "GPU",
  "colab": {
   "collapsed_sections": [],
   "name": "Copy of fsl_project.ipynb",
   "provenance": []
  },
  "kernelspec": {
   "display_name": "Python 3",
   "language": "python",
   "name": "python3"
  },
  "language_info": {
   "codemirror_mode": {
    "name": "ipython",
    "version": 3
   },
   "file_extension": ".py",
   "mimetype": "text/x-python",
   "name": "python",
   "nbconvert_exporter": "python",
   "pygments_lexer": "ipython3",
   "version": "3.7.0"
  }
 },
 "nbformat": 4,
 "nbformat_minor": 2
}
