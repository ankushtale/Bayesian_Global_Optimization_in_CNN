{
 "cells": [
  {
   "cell_type": "markdown",
   "metadata": {},
   "source": [
    "# Bayesian Global Optimization in Convolutional Neural Network"
   ]
  },
  {
   "cell_type": "markdown",
   "metadata": {},
   "source": [
    "## Read SVHN Dataset"
   ]
  },
  {
   "cell_type": "code",
   "execution_count": 1,
   "metadata": {},
   "outputs": [
    {
     "name": "stderr",
     "output_type": "stream",
     "text": [
      "Using TensorFlow backend.\n"
     ]
    }
   ],
   "source": [
    "from scipy.io import loadmat\n",
    "x = loadmat('svhn_data/train_32x32.mat')\n",
    "y = loadmat('svhn_data/test_32x32.mat')\n",
    "import gzip\n",
    "import numpy as np\n",
    "import pandas as pd\n",
    "from time import time\n",
    "\n",
    "from sklearn.model_selection import train_test_split\n",
    "import tensorflow as tf\n",
    "import keras\n",
    "import keras.layers as layers\n",
    "from keras.models import Sequential\n",
    "from keras.preprocessing.image import ImageDataGenerator\n",
    "from keras.utils.np_utils import to_categorical\n",
    "from keras.callbacks import TensorBoard\n",
    "from matplotlib import pyplot as plt"
   ]
  },
  {
   "cell_type": "code",
   "execution_count": 2,
   "metadata": {},
   "outputs": [],
   "source": [
    "train_labels = x['y']"
   ]
  },
  {
   "cell_type": "code",
   "execution_count": 3,
   "metadata": {},
   "outputs": [],
   "source": [
    "train_features = np.swapaxes(np.swapaxes(np.swapaxes(x['X'],2,3), 1,2), 0,1)"
   ]
  },
  {
   "cell_type": "code",
   "execution_count": 4,
   "metadata": {},
   "outputs": [],
   "source": [
    "test_labels = y['y']"
   ]
  },
  {
   "cell_type": "code",
   "execution_count": 5,
   "metadata": {},
   "outputs": [],
   "source": [
    "test_features = np.swapaxes(np.swapaxes(np.swapaxes(y['X'],2,3), 1,2), 0,1)"
   ]
  },
  {
   "cell_type": "code",
   "execution_count": 6,
   "metadata": {},
   "outputs": [],
   "source": [
    "def display_image(position):\n",
    "    image = train_features[position, :, : ,:].squeeze()\n",
    "    plt.title('Example %d. Label: %d' % (position, train_labels[position]))\n",
    "    plt.imshow(image, cmap=plt.cm.gray_r)"
   ]
  },
  {
   "cell_type": "code",
   "execution_count": 7,
   "metadata": {},
   "outputs": [
    {
     "data": {
      "image/png": "[encoded data removed]",
      "text/plain": [
       "<Figure size 432x288 with 1 Axes>"
      ]
     },
     "metadata": {
      "needs_background": "light"
     },
     "output_type": "display_data"
    }
   ],
   "source": [
    "display_image(3)"
   ]
  },
  {
   "cell_type": "code",
   "execution_count": 8,
   "metadata": {},
   "outputs": [],
   "source": [
    "del x, y"
   ]
  },
  {
   "cell_type": "markdown",
   "metadata": {},
   "source": [
    "## Explore Dataset"
   ]
  },
  {
   "cell_type": "code",
   "execution_count": 9,
   "metadata": {},
   "outputs": [
    {
     "data": {
      "text/html": [
       "<div>\n",
       "<style scoped>\n",
       "    .dataframe tbody tr th:only-of-type {\n",
       "        vertical-align: middle;\n",
       "    }\n",
       "\n",
       "    .dataframe tbody tr th {\n",
       "        vertical-align: top;\n",
       "    }\n",
       "\n",
       "    .dataframe thead th {\n",
       "        text-align: right;\n",
       "    }\n",
       "</style>\n",
       "<table border=\"1\" class=\"dataframe\">\n",
       "  <thead>\n",
       "    <tr style=\"text-align: right;\">\n",
       "      <th></th>\n",
       "      <th>Label</th>\n",
       "      <th>Count</th>\n",
       "    </tr>\n",
       "  </thead>\n",
       "  <tbody>\n",
       "    <tr>\n",
       "      <th>0</th>\n",
       "      <td>1</td>\n",
       "      <td>13861</td>\n",
       "    </tr>\n",
       "    <tr>\n",
       "      <th>1</th>\n",
       "      <td>2</td>\n",
       "      <td>10585</td>\n",
       "    </tr>\n",
       "    <tr>\n",
       "      <th>2</th>\n",
       "      <td>3</td>\n",
       "      <td>8497</td>\n",
       "    </tr>\n",
       "    <tr>\n",
       "      <th>3</th>\n",
       "      <td>4</td>\n",
       "      <td>7458</td>\n",
       "    </tr>\n",
       "    <tr>\n",
       "      <th>4</th>\n",
       "      <td>5</td>\n",
       "      <td>6882</td>\n",
       "    </tr>\n",
       "    <tr>\n",
       "      <th>5</th>\n",
       "      <td>6</td>\n",
       "      <td>5727</td>\n",
       "    </tr>\n",
       "    <tr>\n",
       "      <th>6</th>\n",
       "      <td>7</td>\n",
       "      <td>5595</td>\n",
       "    </tr>\n",
       "    <tr>\n",
       "      <th>7</th>\n",
       "      <td>8</td>\n",
       "      <td>5045</td>\n",
       "    </tr>\n",
       "    <tr>\n",
       "      <th>8</th>\n",
       "      <td>9</td>\n",
       "      <td>4659</td>\n",
       "    </tr>\n",
       "    <tr>\n",
       "      <th>9</th>\n",
       "      <td>10</td>\n",
       "      <td>4948</td>\n",
       "    </tr>\n",
       "  </tbody>\n",
       "</table>\n",
       "</div>"
      ],
      "text/plain": [
       "   Label  Count\n",
       "0      1  13861\n",
       "1      2  10585\n",
       "2      3   8497\n",
       "3      4   7458\n",
       "4      5   6882\n",
       "5      6   5727\n",
       "6      7   5595\n",
       "7      8   5045\n",
       "8      9   4659\n",
       "9     10   4948"
      ]
     },
     "execution_count": 9,
     "metadata": {},
     "output_type": "execute_result"
    }
   ],
   "source": [
    "train_labels_count = np.unique(train_labels, return_counts=True)\n",
    "dataframe_train_labels = pd.DataFrame({'Label':train_labels_count[0], 'Count':train_labels_count[1]})\n",
    "dataframe_train_labels"
   ]
  },
  {
   "cell_type": "markdown",
   "metadata": {},
   "source": [
    "## Train Test Split"
   ]
  },
  {
   "cell_type": "code",
   "execution_count": 10,
   "metadata": {},
   "outputs": [],
   "source": [
    "validation = {}\n",
    "train_features, validation_features, train_labels, validation_labels = train_test_split(train_features, train_labels, test_size=0.2, random_state=0)"
   ]
  },
  {
   "cell_type": "code",
   "execution_count": 11,
   "metadata": {},
   "outputs": [
    {
     "data": {
      "text/plain": [
       "(58605, 1)"
      ]
     },
     "execution_count": 11,
     "metadata": {},
     "output_type": "execute_result"
    }
   ],
   "source": [
    "train_labels.shape"
   ]
  },
  {
   "cell_type": "code",
   "execution_count": 12,
   "metadata": {},
   "outputs": [
    {
     "name": "stdout",
     "output_type": "stream",
     "text": [
      "# of training images: 58605\n",
      "# of validation images: 14652\n"
     ]
    }
   ],
   "source": [
    "print('# of training images:', train_features.shape[0])\n",
    "print('# of validation images:', validation_features.shape[0])"
   ]
  },
  {
   "cell_type": "markdown",
   "metadata": {},
   "source": [
    "## Create sample model"
   ]
  },
  {
   "cell_type": "markdown",
   "metadata": {},
   "source": [
    "#### Hyperparameters to experiment with\n",
    "\n",
    "Implement Bayesian Global Optimization to arrive at optimal hyper parameter values for:\n",
    "1. Starting Learning Rate $\\eta_0$\n",
    "2. Learning Rate Decay $\\delta$ where learning-rate $\\eta = \\frac{\\eta_0}{(1+\\delta*t)}$ \n",
    "3. Mini-batch size: $B$\n",
    "4. Dropout parameter $p_1$ for first fully connected layer\n",
    "5. Dropout parameter $p_2$ for second fully connected layer"
   ]
  },
  {
   "cell_type": "code",
   "execution_count": 13,
   "metadata": {},
   "outputs": [],
   "source": [
    "# STARTING_LEARNING_RATE = 0.001\n",
    "# DECAY = 0.0000001\n",
    "# BATCH_SIZE = 256\n",
    "# DROPOUT_P1 = 0.001\n",
    "# DROPOUT_P2 = 0.001\n",
    "#EPOCHS = 1"
   ]
  },
  {
   "cell_type": "code",
   "execution_count": 14,
   "metadata": {},
   "outputs": [],
   "source": [
    "# STARTING_LEARNING_RATE = [0.001,0.01,0.05,0.1]\n",
    "# DECAY = [0.0000001,0.000001,0.0001]\n",
    "# # BATCH_SIZE = [32, 64, 128] #256,512,1024]\n",
    "# BATCH_SIZE = [256,512,1024]\n",
    "# DROPOUT_P1 = [0.1,0.25,0.5]\n",
    "# DROPOUT_P2 = [0.1,0.25,0.5]\n",
    "# EPOCHS = 1\n",
    "\n",
    "STARTING_LEARNING_RATE = [0.001,0.01]\n",
    "DECAY = [0.0000001,0.00001]\n",
    "# BATCH_SIZE = [32, 64, 128] #256,512,1024]\n",
    "BATCH_SIZE = [256,512]\n",
    "DROPOUT_P1 = [0.1, 0.4]\n",
    "DROPOUT_P2 = [0.1, 0.4]\n",
    "EPOCHS = 1"
   ]
  },
  {
   "cell_type": "code",
   "execution_count": 15,
   "metadata": {},
   "outputs": [],
   "source": [
    "X_train, y_train = train_features, to_categorical(train_labels)[:,1:]\n",
    "# X_train = train_features\n",
    "X_validation, y_validation = validation_features, to_categorical(validation_labels)[:,1:]\n",
    "\n",
    "#Comment when running Grid Search\n",
    "#train_generator = ImageDataGenerator().flow(X_train, y_train, batch_size=BATCH_SIZE)\n",
    "#validation_generator = ImageDataGenerator().flow(X_validation, y_validation, batch_size=BATCH_SIZE)"
   ]
  },
  {
   "cell_type": "code",
   "execution_count": null,
   "metadata": {},
   "outputs": [
    {
     "name": "stdout",
     "output_type": "stream",
     "text": [
      "0.001 256 1e-07 0.1 0.1\n",
      "WARNING:tensorflow:From C:\\Users\\Ankush\\Anaconda3\\lib\\site-packages\\tensorflow\\python\\framework\\op_def_library.py:263: colocate_with (from tensorflow.python.framework.ops) is deprecated and will be removed in a future version.\n",
      "Instructions for updating:\n",
      "Colocations handled automatically by placer.\n",
      "WARNING:tensorflow:From C:\\Users\\Ankush\\Anaconda3\\lib\\site-packages\\keras\\backend\\tensorflow_backend.py:3445: calling dropout (from tensorflow.python.ops.nn_ops) with keep_prob is deprecated and will be removed in a future version.\n",
      "Instructions for updating:\n",
      "Please use `rate` instead of `keep_prob`. Rate should be set to `rate = 1 - keep_prob`.\n",
      "WARNING:tensorflow:From C:\\Users\\Ankush\\Anaconda3\\lib\\site-packages\\tensorflow\\python\\ops\\math_ops.py:3066: to_int32 (from tensorflow.python.ops.math_ops) is deprecated and will be removed in a future version.\n",
      "Instructions for updating:\n",
      "Use tf.cast instead.\n",
      "Epoch 1/1\n",
      "228/228 [==============================] - 10s 45ms/step - loss: 14.8403 - acc: 0.0792 - val_loss: 14.9108 - val_acc: 0.0749\n",
      "17696/26032 [===================>..........] - ETA: 0s"
     ]
    }
   ],
   "source": [
    "############# LENET #############\n",
    "# model = keras.Sequential()\n",
    "\n",
    "# model.add(layers.Conv2D(filters=6, kernel_size=(3, 3), activation='relu', input_shape=(32,32,3)))\n",
    "# model.add(layers.AveragePooling2D())\n",
    "\n",
    "# model.add(layers.Conv2D(filters=16, kernel_size=(3, 3), activation='relu'))\n",
    "# model.add(layers.AveragePooling2D())\n",
    "\n",
    "# model.add(layers.Flatten())\n",
    "\n",
    "# model.add(layers.Dense(units=120, activation='relu'))\n",
    "\n",
    "# model.add(layers.Dense(units=84, activation='relu'))\n",
    "\n",
    "# model.add(layers.Dense(units=10, activation = 'softmax'))\n",
    "# #, kernel_initializer=\"glorot_uniform\", bias_initializer=\"zeros\")\n",
    "\n",
    "\n",
    "############# Proposed Model #############\n",
    "# model = keras.Sequential()\n",
    "# model.add(layers.Conv2D(filters=32, kernel_size=(5, 5), activation='relu', input_shape=(32,32,3), strides=1, padding='same', kernel_initializer=\"he_uniform\", bias_initializer=\"zeros\"))\n",
    "# #model.add(layers.AveragePooling2D())\n",
    "\n",
    "# model.add(layers.Conv2D(filters=64, kernel_size=(3, 3), activation='relu', strides=1, padding='same', kernel_initializer=\"he_uniform\", bias_initializer=\"zeros\"))\n",
    "# #model.add(layers.AveragePooling2D())\n",
    "# model.add(layers.Conv2D(filters=128, kernel_size=(3, 3), activation='relu', strides=1, padding='same', kernel_initializer=\"he_uniform\", bias_initializer=\"zeros\"))\n",
    "\n",
    "# model.add(layers.Flatten())\n",
    "\n",
    "# model.add(layers.Dense(units=1024, activation='relu', kernel_initializer=\"glorot_uniform\", bias_initializer=\"zeros\"))\n",
    "# model.add(layers.Dropout(rate=DROPOUT_P1, seed=1))\n",
    "# model.add(layers.Dense(units=1024, activation='relu', kernel_initializer=\"glorot_uniform\", bias_initializer=\"zeros\"))\n",
    "# model.add(layers.Dropout(rate=DROPOUT_P2, seed=1))\n",
    "# model.add(layers.Dense(units=10, activation = 'softmax'))\n",
    "\n",
    "\n",
    "############# Grid Search #############\n",
    "result=[]\n",
    "for lr in STARTING_LEARNING_RATE:\n",
    "    for b in BATCH_SIZE:\n",
    "        for dec in DECAY:\n",
    "            for d1 in DROPOUT_P1:\n",
    "                for d2 in DROPOUT_P2:\n",
    "                    \n",
    "                    print(lr, b, dec, d1, d2)\n",
    "                    \n",
    "                    train_generator = ImageDataGenerator().flow(X_train, y_train, batch_size=b)\n",
    "                    validation_generator = ImageDataGenerator().flow(X_validation, y_validation, batch_size=b)\n",
    "\n",
    "                    model = keras.Sequential()\n",
    "                    model.add(layers.Conv2D(filters=32, kernel_size=(5, 5), activation='relu', input_shape=(32,32,3), strides=1, padding='same', kernel_initializer=\"he_uniform\", bias_initializer=\"zeros\"))\n",
    "                    model.add(layers.AveragePooling2D())\n",
    "\n",
    "                    model.add(layers.Conv2D(filters=64, kernel_size=(3, 3), activation='relu', strides=1, padding='same', kernel_initializer=\"he_uniform\", bias_initializer=\"zeros\"))\n",
    "                    model.add(layers.AveragePooling2D())\n",
    "                    model.add(layers.Conv2D(filters=128, kernel_size=(3, 3), activation='relu', strides=1, padding='same', kernel_initializer=\"he_uniform\", bias_initializer=\"zeros\"))\n",
    "\n",
    "                    model.add(layers.Flatten())\n",
    "\n",
    "                    model.add(layers.Dense(units=1024, activation='relu', kernel_initializer=\"glorot_uniform\", bias_initializer=\"zeros\"))\n",
    "                    model.add(layers.Dropout(rate=d1, seed=10))\n",
    "                    model.add(layers.Dense(units=1024, activation='relu', kernel_initializer=\"glorot_uniform\", bias_initializer=\"zeros\"))\n",
    "                    model.add(layers.Dropout(rate=d2, seed=10))\n",
    "                    model.add(layers.Dense(units=10, activation = 'softmax'))\n",
    "                    \n",
    "                    model.compile(loss=keras.losses.categorical_crossentropy, optimizer=keras.optimizers.Adam(lr=lr,decay=dec), metrics=['accuracy'])\n",
    "                    \n",
    "#                     print('# of training images:', train_features.shape[0])\n",
    "#                     print('# of validation images:', validation_features.shape[0])\n",
    "\n",
    "                    steps_per_epoch = X_train.shape[0]//b\n",
    "                    validation_steps = X_validation.shape[0]//b\n",
    "\n",
    "                    tensorboard = TensorBoard(log_dir=\"logs/{}\".format(time()))\n",
    "                    model.fit_generator(train_generator, steps_per_epoch=steps_per_epoch, epochs=EPOCHS, \n",
    "                                        validation_data=validation_generator, validation_steps=validation_steps, \n",
    "                                        shuffle=False, callbacks=[tensorboard])\n",
    "                \n",
    "                    score = model.evaluate(test_features, to_categorical(test_labels)[:,1:])\n",
    "                    result.append(((lr,b,dec,d1,d2),score))\n",
    "                    print('Test loss: {} Accuracy: {}'.format(score[0], score[1]))\n",
    "                    del train_generator, validation_generator, model"
   ]
  },
  {
   "cell_type": "code",
   "execution_count": 22,
   "metadata": {},
   "outputs": [
    {
     "data": {
      "text/plain": [
       "[((0.001, 256, 1e-07, 0.1, 0.1), [12.960974684506013, 0.1958743085433313]),\n",
       " ((0.001, 256, 1e-07, 0.4, 0.4), [12.960974684506013, 0.1958743085433313]),\n",
       " ((0.001, 256, 1e-05, 0.1, 0.1), [12.960974684506013, 0.1958743085433313]),\n",
       " ((0.001, 256, 1e-05, 0.1, 0.4), [12.960974684506013, 0.1958743085433313]),\n",
       " ((0.001, 512, 1e-07, 0.4, 0.1), [12.960974684506013, 0.1958743085433313]),\n",
       " ((0.001, 512, 1e-07, 0.1, 0.1), [13.549181133380461, 0.15938076213890595]),\n",
       " ((0.001, 512, 1e-05, 0.4, 0.1), [13.549181133380461, 0.15938076213890595]),\n",
       " ((0.001, 256, 1e-05, 0.4, 0.1), [14.333662611029965, 0.1107098955132145]),\n",
       " ((0.001, 512, 1e-07, 0.4, 0.4), [14.333662611029965, 0.1107098955132145]),\n",
       " ((0.001, 256, 1e-07, 0.4, 0.1), [14.55594267842223, 0.09691917639827904]),\n",
       " ((0.001, 256, 1e-05, 0.4, 0.4), [14.55594267842223, 0.09691917639827904]),\n",
       " ((0.001, 256, 1e-07, 0.1, 0.4), [14.89400650814551, 0.07594499078057775]),\n",
       " ((0.001, 512, 1e-05, 0.1, 0.1), [14.89400650814551, 0.07594499078057775]),\n",
       " ((0.001, 512, 1e-05, 0.4, 0.4), [14.89400650814551, 0.07594499078057775]),\n",
       " ((0.01, 256, 1e-07, 0.1, 0.1), [15.09028173328252, 0.06376767055931162]),\n",
       " ((0.01, 256, 1e-07, 0.1, 0.4), [15.09028173328252, 0.06376767055931162]),\n",
       " ((0.001, 512, 1e-07, 0.1, 0.4), [15.130527435377763, 0.06127074370006146]),\n",
       " ((0.001, 512, 1e-05, 0.1, 0.4), [15.130527435377763, 0.06127074370006146])]"
      ]
     },
     "execution_count": 22,
     "metadata": {},
     "output_type": "execute_result"
    }
   ],
   "source": [
    "#result\n",
    "sorted(result, key = lambda x: x[1][1], reverse=True)"
   ]
  },
  {
   "cell_type": "code",
   "execution_count": 18,
   "metadata": {},
   "outputs": [
    {
     "name": "stdout",
     "output_type": "stream",
     "text": [
      "_________________________________________________________________\n",
      "Layer (type)                 Output Shape              Param #   \n",
      "=================================================================\n",
      "conv2d_88 (Conv2D)           (None, 32, 32, 32)        2432      \n",
      "_________________________________________________________________\n",
      "average_pooling2d_59 (Averag (None, 16, 16, 32)        0         \n",
      "_________________________________________________________________\n",
      "conv2d_89 (Conv2D)           (None, 16, 16, 64)        18496     \n",
      "_________________________________________________________________\n",
      "average_pooling2d_60 (Averag (None, 8, 8, 64)          0         \n",
      "_________________________________________________________________\n",
      "conv2d_90 (Conv2D)           (None, 8, 8, 128)         73856     \n",
      "_________________________________________________________________\n",
      "flatten_30 (Flatten)         (None, 8192)              0         \n",
      "_________________________________________________________________\n",
      "dense_88 (Dense)             (None, 1024)              8389632   \n",
      "_________________________________________________________________\n",
      "dropout_59 (Dropout)         (None, 1024)              0         \n",
      "_________________________________________________________________\n",
      "dense_89 (Dense)             (None, 1024)              1049600   \n",
      "_________________________________________________________________\n",
      "dropout_60 (Dropout)         (None, 1024)              0         \n",
      "_________________________________________________________________\n",
      "dense_90 (Dense)             (None, 10)                10250     \n",
      "=================================================================\n",
      "Total params: 9,544,266\n",
      "Trainable params: 9,544,266\n",
      "Non-trainable params: 0\n",
      "_________________________________________________________________\n"
     ]
    }
   ],
   "source": [
    "model.summary()\n",
    "#result[0][1][1]"
   ]
  },
  {
   "cell_type": "code",
   "execution_count": null,
   "metadata": {},
   "outputs": [],
   "source": [
    "#Comment for Grid Search\n",
    "#model.compile(loss=keras.losses.categorical_crossentropy, optimizer=keras.optimizers.Adam(lr=STARTING_LEARNING_RATE,decay=DECAY), metrics=['accuracy'])"
   ]
  },
  {
   "cell_type": "code",
   "execution_count": null,
   "metadata": {},
   "outputs": [],
   "source": [
    "print('# of training images:', train_features.shape[0])\n",
    "print('# of validation images:', validation_features.shape[0])\n",
    "\n",
    "steps_per_epoch = X_train.shape[0]//BATCH_SIZE\n",
    "validation_steps = X_validation.shape[0]//BATCH_SIZE\n",
    "\n",
    "tensorboard = TensorBoard(log_dir=\"logs/{}\".format(time()))\n",
    "history = model.fit_generator(train_generator, steps_per_epoch=steps_per_epoch, epochs=EPOCHS,\n",
    "                    validation_data=validation_generator, validation_steps=validation_steps, \n",
    "                    shuffle=False, callbacks=[tensorboard])\n",
    "\n",
    "# Plot training & validation accuracy values\n",
    "plt.plot(history.history['acc'])\n",
    "plt.plot(history.history['val_acc'])\n",
    "plt.title('Model accuracy')\n",
    "plt.ylabel('Accuracy')\n",
    "plt.xlabel('Epoch')\n",
    "plt.legend(['Train', 'Test'], loc='upper left')\n",
    "plt.show()\n",
    "\n",
    "# Plot training & validation loss values\n",
    "plt.plot(history.history['loss'])\n",
    "plt.plot(history.history['val_loss'])\n",
    "plt.title('Model loss')\n",
    "plt.ylabel('Loss')\n",
    "plt.xlabel('Epoch')\n",
    "plt.legend(['Train', 'Test'], loc='upper left')\n",
    "plt.show()"
   ]
  },
  {
   "cell_type": "code",
   "execution_count": null,
   "metadata": {},
   "outputs": [],
   "source": [
    "score = model.evaluate(test_features, to_categorical(test_labels)[:,1:])\n",
    "print('Test loss:', score[0])\n",
    "print('Test accuracy:', score[1])"
   ]
  },
  {
   "cell_type": "markdown",
   "metadata": {},
   "source": [
    "larger batch size, watch your weight initializations"
   ]
  },
  {
   "cell_type": "markdown",
   "metadata": {},
   "source": [
    "equations, figures all labeled and cited. References discussed. Put a few equations, Glorot et.al [1], discuss a couple of papers in related work, section headings"
   ]
  },
  {
   "cell_type": "code",
   "execution_count": 16,
   "metadata": {},
   "outputs": [],
   "source": [
    "EPOCHS = 20"
   ]
  },
  {
   "cell_type": "code",
   "execution_count": 17,
   "metadata": {},
   "outputs": [
    {
     "name": "stdout",
     "output_type": "stream",
     "text": [
      "WARNING:tensorflow:From C:\\Users\\Ankush\\Anaconda3\\lib\\site-packages\\tensorflow\\python\\framework\\op_def_library.py:263: colocate_with (from tensorflow.python.framework.ops) is deprecated and will be removed in a future version.\n",
      "Instructions for updating:\n",
      "Colocations handled automatically by placer.\n",
      "WARNING:tensorflow:From C:\\Users\\Ankush\\Anaconda3\\lib\\site-packages\\keras\\backend\\tensorflow_backend.py:3445: calling dropout (from tensorflow.python.ops.nn_ops) with keep_prob is deprecated and will be removed in a future version.\n",
      "Instructions for updating:\n",
      "Please use `rate` instead of `keep_prob`. Rate should be set to `rate = 1 - keep_prob`.\n",
      "WARNING:tensorflow:From C:\\Users\\Ankush\\Anaconda3\\lib\\site-packages\\tensorflow\\python\\ops\\math_ops.py:3066: to_int32 (from tensorflow.python.ops.math_ops) is deprecated and will be removed in a future version.\n",
      "Instructions for updating:\n",
      "Use tf.cast instead.\n",
      "Epoch 1/20\n",
      "228/228 [==============================] - 61s 266ms/step - loss: 15.0257 - acc: 0.0678 - val_loss: 15.0367 - val_acc: 0.0671\n",
      "Epoch 2/20\n",
      "228/228 [==============================] - 59s 259ms/step - loss: 15.0230 - acc: 0.0679 - val_loss: 15.0444 - val_acc: 0.0666\n",
      "Epoch 3/20\n",
      "228/228 [==============================] - 59s 258ms/step - loss: 15.0303 - acc: 0.0675 - val_loss: 15.0365 - val_acc: 0.0671\n",
      "Epoch 4/20\n",
      "228/228 [==============================] - 59s 259ms/step - loss: 15.0260 - acc: 0.0678 - val_loss: 15.0388 - val_acc: 0.0670\n",
      "Epoch 5/20\n",
      "228/228 [==============================] - 59s 259ms/step - loss: 15.0309 - acc: 0.0675 - val_loss: 15.0410 - val_acc: 0.0668\n",
      "Epoch 6/20\n",
      "228/228 [==============================] - 60s 261ms/step - loss: 15.0198 - acc: 0.0681 - val_loss: 15.0466 - val_acc: 0.0665\n",
      "Epoch 7/20\n",
      "228/228 [==============================] - 59s 260ms/step - loss: 15.0296 - acc: 0.0675 - val_loss: 15.0444 - val_acc: 0.0666\n",
      "Epoch 8/20\n",
      "228/228 [==============================] - 59s 260ms/step - loss: 15.0265 - acc: 0.0677 - val_loss: 15.0052 - val_acc: 0.0690\n",
      "Epoch 9/20\n",
      "228/228 [==============================] - 59s 261ms/step - loss: 15.0300 - acc: 0.0675 - val_loss: 15.0645 - val_acc: 0.0654\n",
      "Epoch 10/20\n",
      "228/228 [==============================] - 59s 259ms/step - loss: 15.0253 - acc: 0.0678 - val_loss: 15.0388 - val_acc: 0.0670\n",
      "Epoch 11/20\n",
      "228/228 [==============================] - 60s 262ms/step - loss: 15.0277 - acc: 0.0676 - val_loss: 15.0253 - val_acc: 0.0678\n",
      "Epoch 12/20\n",
      "228/228 [==============================] - 60s 261ms/step - loss: 15.0236 - acc: 0.0679 - val_loss: 15.0746 - val_acc: 0.0647\n",
      "Epoch 13/20\n",
      "228/228 [==============================] - 59s 260ms/step - loss: 15.0283 - acc: 0.0676 - val_loss: 15.0141 - val_acc: 0.0685\n",
      "Epoch 14/20\n",
      "228/228 [==============================] - 60s 262ms/step - loss: 15.0260 - acc: 0.0678 - val_loss: 15.0477 - val_acc: 0.0664\n",
      "Epoch 15/20\n",
      "228/228 [==============================] - 59s 260ms/step - loss: 15.0245 - acc: 0.0679 - val_loss: 15.0332 - val_acc: 0.0673\n",
      "Epoch 16/20\n",
      "228/228 [==============================] - 59s 260ms/step - loss: 15.0345 - acc: 0.0672 - val_loss: 15.0556 - val_acc: 0.0659\n",
      "Epoch 17/20\n",
      "228/228 [==============================] - 60s 264ms/step - loss: 15.0199 - acc: 0.0681 - val_loss: 15.0041 - val_acc: 0.0691\n",
      "Epoch 18/20\n",
      "228/228 [==============================] - 60s 261ms/step - loss: 15.0251 - acc: 0.0678 - val_loss: 15.0623 - val_acc: 0.0655\n",
      "Epoch 19/20\n",
      "228/228 [==============================] - 59s 260ms/step - loss: 15.0327 - acc: 0.0673 - val_loss: 15.0265 - val_acc: 0.0677\n",
      "Epoch 20/20\n",
      "228/228 [==============================] - 59s 259ms/step - loss: 15.0335 - acc: 0.0673 - val_loss: 15.0455 - val_acc: 0.0665\n",
      "26032/26032 [==============================] - 8s 290us/step\n",
      "Test loss: 15.038271879959341 Accuracy: 0.06699446834665028\n"
     ]
    }
   ],
   "source": [
    "b = 256\n",
    "\n",
    "train_generator = ImageDataGenerator().flow(X_train, y_train, batch_size=b)\n",
    "validation_generator = ImageDataGenerator().flow(X_validation, y_validation, batch_size=b)\n",
    "model = keras.Sequential()\n",
    "model.add(layers.Conv2D(filters=32, kernel_size=(5, 5), activation='relu', input_shape=(32,32,3), strides=1, padding='same', kernel_initializer=\"he_uniform\", bias_initializer=\"zeros\"))\n",
    "#model.add(layers.AveragePooling2D())\n",
    "\n",
    "model.add(layers.Conv2D(filters=64, kernel_size=(3, 3), activation='relu', strides=1, padding='same', kernel_initializer=\"he_uniform\", bias_initializer=\"zeros\"))\n",
    "#model.add(layers.AveragePooling2D())\n",
    "model.add(layers.Conv2D(filters=128, kernel_size=(3, 3), activation='relu', strides=1, padding='same', kernel_initializer=\"he_uniform\", bias_initializer=\"zeros\"))\n",
    "\n",
    "model.add(layers.Flatten())\n",
    "\n",
    "model.add(layers.Dense(units=1024, activation='relu', kernel_initializer=\"glorot_uniform\", bias_initializer=\"zeros\"))\n",
    "model.add(layers.Dropout(rate=0.1, seed=10))\n",
    "model.add(layers.Dense(units=1024, activation='relu', kernel_initializer=\"glorot_uniform\", bias_initializer=\"zeros\"))\n",
    "model.add(layers.Dropout(rate=0.1, seed=10))\n",
    "model.add(layers.Dense(units=10, activation = 'softmax'))\n",
    "            \n",
    "model.compile(loss=keras.losses.categorical_crossentropy, optimizer=keras.optimizers.Adam(lr=0.001,decay=0.0000001), metrics=['accuracy'])\n",
    "steps_per_epoch = X_train.shape[0]//b\n",
    "validation_steps = X_validation.shape[0]//b\n",
    "\n",
    "tensorboard = TensorBoard(log_dir=\"logs/{}\".format(time()))\n",
    "history = model.fit_generator(train_generator, steps_per_epoch=steps_per_epoch, epochs=EPOCHS, \n",
    "                    validation_data=validation_generator, validation_steps=validation_steps, \n",
    "                    shuffle=False, callbacks=[tensorboard])\n",
    "\n",
    "score = model.evaluate(test_features, to_categorical(test_labels)[:,1:])\n",
    "print('Test loss: {} Accuracy: {}'.format(score[0], score[1]))\n",
    "# ############# Grid Search #############\n",
    "# result=[]\n",
    "# for lr in STARTING_LEARNING_RATE:\n",
    "#     for b in BATCH_SIZE:\n",
    "#         for dec in DECAY:\n",
    "                    \n",
    "#             print(lr, b, dec)\n",
    "\n",
    "#             train_generator = ImageDataGenerator().flow(X_train, y_train, batch_size=b)\n",
    "#             validation_generator = ImageDataGenerator().flow(X_validation, y_validation, batch_size=b)\n",
    "\n",
    "#             model.compile(loss=keras.losses.categorical_crossentropy, optimizer=keras.optimizers.Adam(lr=lr,decay=dec), metrics=['accuracy'])\n",
    "\n",
    "# #                     print('# of training images:', train_features.shape[0])\n",
    "# #                     print('# of validation images:', validation_features.shape[0])\n",
    "\n",
    "#             steps_per_epoch = X_train.shape[0]//b\n",
    "#             validation_steps = X_validation.shape[0]//b\n",
    "\n",
    "#             tensorboard = TensorBoard(log_dir=\"logs/{}\".format(time()))\n",
    "#             model.fit_generator(train_generator, steps_per_epoch=steps_per_epoch, epochs=EPOCHS, \n",
    "#                                 validation_data=validation_generator, validation_steps=validation_steps, \n",
    "#                                 shuffle=False, callbacks=[tensorboard])\n",
    "\n",
    "#             score = model.evaluate(test_features, to_categorical(test_labels)[:,1:])\n",
    "#             result.append(((lr,b,dec),score))\n",
    "#             print('Test loss: {} Accuracy: {}'.format(score[0], score[1]))\n",
    "\n",
    "# Plot training & validation accuracy values\n",
    "plt.plot(history.history['acc'])\n",
    "plt.plot(history.history['val_acc'])\n",
    "plt.title('Model accuracy')\n",
    "plt.ylabel('Accuracy')\n",
    "plt.xlabel('Epoch')\n",
    "plt.legend(['Train', 'Test'], loc='upper left')\n",
    "plt.show()\n",
    "\n",
    "# Plot training & validation loss values\n",
    "plt.plot(history.history['loss'])\n",
    "plt.plot(history.history['val_loss'])\n",
    "plt.title('Model loss')\n",
    "plt.ylabel('Loss')\n",
    "plt.xlabel('Epoch')\n",
    "plt.legend(['Train', 'Test'], loc='upper left')\n",
    "plt.show()"
   ]
  },
  {
   "cell_type": "code",
   "execution_count": null,
   "metadata": {},
   "outputs": [],
   "source": []
  }
 ],
 "metadata": {
  "kernelspec": {
   "display_name": "Python 3",
   "language": "python",
   "name": "python3"
  },
  "language_info": {
   "codemirror_mode": {
    "name": "ipython",
    "version": 3
   },
   "file_extension": ".py",
   "mimetype": "text/x-python",
   "name": "python",
   "nbconvert_exporter": "python",
   "pygments_lexer": "ipython3",
   "version": "3.7.0"
  }
 },
 "nbformat": 4,
 "nbformat_minor": 2
}
